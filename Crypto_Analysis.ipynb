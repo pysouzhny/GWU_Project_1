{
 "cells": [
  {
   "cell_type": "code",
   "execution_count": 173,
   "metadata": {},
   "outputs": [],
   "source": [
    "# import librairies\n",
    "import panel as pn\n",
    "pn.extension('plotly')\n",
    "import plotly.express as px\n",
    "import pandas as pd\n",
    "import hvplot.pandas\n",
    "import holoviews as hv\n",
    "import matplotlib.pyplot as plt\n",
    "import numpy as np\n",
    "import os\n",
    "import seaborn as sns\n",
    "from pathlib import Path\n",
    "from dotenv import load_dotenv\n",
    "#from data_collection import get_crypo_from_API\n",
    "import plotly.graph_objects as go\n",
    "from datetime import datetime, timedelta\n",
    "import montecarlo as mc\n",
    "import warnings\n",
    "import json\n",
    "from urllib.request import Request, urlopen\n",
    "warnings.filterwarnings('ignore')\n",
    "pd.options.display.float_format = '{:.2f}'.format"
   ]
  },
  {
   "cell_type": "markdown",
   "metadata": {},
   "source": [
    "### **CRYTPTO PORTFOLIO**\n",
    "---\n",
    "The current project is based on single year historical data to provide an analysis of a hyporthetical portfolio of crypto assets to help guide a new investor."
   ]
  },
  {
   "cell_type": "markdown",
   "metadata": {},
   "source": [
    "We obtained our data mainly from yahoo finance and API and make the code modular by the use of functions"
   ]
  },
  {
   "cell_type": "code",
   "execution_count": 178,
   "metadata": {},
   "outputs": [],
   "source": [
    "# defining tickers\n",
    "tickers = ['BTC', 'ETH', 'DOGE', 'SUSHI','USDT']\n",
    "\n",
    "\n",
    "# List of portfolio Crypto Currency\n",
    "load_dotenv\n",
    "api_key = os.environ.get(\"IEX_TOKEN\")\n",
    "\n",
    "def read_json(url):\n",
    "    request = Request(url)\n",
    "    response = urlopen(request)\n",
    "    #print(response)\n",
    "    data = response.read()\n",
    "    #print(data)\n",
    "    url2 = json.loads(data)\n",
    "    return url2\n",
    "\n",
    "def get_joined_close(dataframe):\n",
    "\n",
    "    cols = [c for c in dataframe.columns if c.lower()[:5] == 'close']\n",
    "    daily_close_df=dataframe[cols]\n",
    "\n",
    "    return daily_close_df\n",
    "\n",
    "def plot_mont_carl(monte_carlo_sim):\n",
    "    plot_title = f\"Monte-Carlo Simulation of Portfolio\"\n",
    "    monte_carlo_sim_plot = monte_carlo_sim.hvplot(title=plot_title,figsize=(18,10),legend=False)\n",
    "    return monte_carlo_sim_plot\n"
   ]
  },
  {
   "cell_type": "code",
   "execution_count": 139,
   "metadata": {},
   "outputs": [
    {
     "data": {
      "text/html": [
       "<div>\n",
       "<style scoped>\n",
       "    .dataframe tbody tr th:only-of-type {\n",
       "        vertical-align: middle;\n",
       "    }\n",
       "\n",
       "    .dataframe tbody tr th {\n",
       "        vertical-align: top;\n",
       "    }\n",
       "\n",
       "    .dataframe thead th {\n",
       "        text-align: right;\n",
       "    }\n",
       "</style>\n",
       "<table border=\"1\" class=\"dataframe\">\n",
       "  <thead>\n",
       "    <tr style=\"text-align: right;\">\n",
       "      <th></th>\n",
       "      <th>Date</th>\n",
       "      <th>Volume</th>\n",
       "      <th>ticker</th>\n",
       "    </tr>\n",
       "  </thead>\n",
       "  <tbody>\n",
       "    <tr>\n",
       "      <th>0</th>\n",
       "      <td>2020-10-06</td>\n",
       "      <td>11497841885.00</td>\n",
       "      <td>ETH</td>\n",
       "    </tr>\n",
       "    <tr>\n",
       "      <th>1</th>\n",
       "      <td>2020-10-07</td>\n",
       "      <td>10537119715.00</td>\n",
       "      <td>ETH</td>\n",
       "    </tr>\n",
       "    <tr>\n",
       "      <th>2</th>\n",
       "      <td>2020-10-08</td>\n",
       "      <td>11511016796.00</td>\n",
       "      <td>ETH</td>\n",
       "    </tr>\n",
       "    <tr>\n",
       "      <th>3</th>\n",
       "      <td>2020-10-10</td>\n",
       "      <td>13618484324.00</td>\n",
       "      <td>ETH</td>\n",
       "    </tr>\n",
       "    <tr>\n",
       "      <th>4</th>\n",
       "      <td>2020-10-11</td>\n",
       "      <td>12584512533.00</td>\n",
       "      <td>ETH</td>\n",
       "    </tr>\n",
       "  </tbody>\n",
       "</table>\n",
       "</div>"
      ],
      "text/plain": [
       "         Date         Volume ticker\n",
       "0  2020-10-06 11497841885.00    ETH\n",
       "1  2020-10-07 10537119715.00    ETH\n",
       "2  2020-10-08 11511016796.00    ETH\n",
       "3  2020-10-10 13618484324.00    ETH\n",
       "4  2020-10-11 12584512533.00    ETH"
      ]
     },
     "execution_count": 139,
     "metadata": {},
     "output_type": "execute_result"
    }
   ],
   "source": [
    "#Read in the crypto data into a Pandas DataFrame\n",
    "\n",
    "Euthereum_data = pd.read_csv(Path(\"Resources/ETH-USD.csv\"), index_col='Date')\n",
    "Doge_data = pd.read_csv(Path(\"Resources/DOGE-USD.csv\"), index_col='Date')\n",
    "Bitcoin_data = pd.read_csv(Path(\"Resources/BTC-USD.csv\"), index_col='Date')\n",
    "Sushi_data = pd.read_csv(Path(\"Resources/SUSHI-USD.csv\"), index_col='Date')\n",
    "Tether_data = pd.read_csv(Path(\"Resources/USDT-USD.csv\"), index_col='Date')\n",
    "\n",
    "#create ticker data\n",
    "Euthereum_data['ticker']='ETH'\n",
    "Doge_data['ticker']='DOGE'\n",
    "Bitcoin_data['ticker']='BTC'\n",
    "Sushi_data['ticker']='SUSHI'\n",
    "Tether_data['ticker']='USDT'\n",
    "\n",
    "#concatenate files into a single volume data frame using date as an index in order to plot volume data\n",
    "volume_data=pd.concat([Euthereum_data,Bitcoin_data,Doge_data,Sushi_data,Tether_data],axis='rows').loc[:,['Volume','ticker']].dropna()\n",
    "volume_data.reset_index(inplace=True)\n",
    "volume_data.head()"
   ]
  },
  {
   "cell_type": "markdown",
   "metadata": {},
   "source": [
    "## Data Cleaning & Aquisitions\n",
    "\n"
   ]
  },
  {
   "cell_type": "code",
   "execution_count": 140,
   "metadata": {},
   "outputs": [
    {
     "data": {
      "text/html": [
       "<div>\n",
       "<style scoped>\n",
       "    .dataframe tbody tr th:only-of-type {\n",
       "        vertical-align: middle;\n",
       "    }\n",
       "\n",
       "    .dataframe tbody tr th {\n",
       "        vertical-align: top;\n",
       "    }\n",
       "\n",
       "    .dataframe thead th {\n",
       "        text-align: right;\n",
       "    }\n",
       "</style>\n",
       "<table border=\"1\" class=\"dataframe\">\n",
       "  <thead>\n",
       "    <tr style=\"text-align: right;\">\n",
       "      <th></th>\n",
       "      <th>USDT Open</th>\n",
       "      <th>USDT High</th>\n",
       "      <th>USDT Low</th>\n",
       "      <th>USDT Close</th>\n",
       "      <th>USDT Adj Close</th>\n",
       "      <th>USDT Volume</th>\n",
       "      <th>ticker</th>\n",
       "    </tr>\n",
       "    <tr>\n",
       "      <th>Date</th>\n",
       "      <th></th>\n",
       "      <th></th>\n",
       "      <th></th>\n",
       "      <th></th>\n",
       "      <th></th>\n",
       "      <th></th>\n",
       "      <th></th>\n",
       "    </tr>\n",
       "  </thead>\n",
       "  <tbody>\n",
       "    <tr>\n",
       "      <th>2020-10-06</th>\n",
       "      <td>1.00</td>\n",
       "      <td>1.01</td>\n",
       "      <td>1.00</td>\n",
       "      <td>1.00</td>\n",
       "      <td>1.00</td>\n",
       "      <td>36772723041.00</td>\n",
       "      <td>USDT</td>\n",
       "    </tr>\n",
       "    <tr>\n",
       "      <th>2020-10-07</th>\n",
       "      <td>1.00</td>\n",
       "      <td>1.01</td>\n",
       "      <td>1.00</td>\n",
       "      <td>1.00</td>\n",
       "      <td>1.00</td>\n",
       "      <td>28509871425.00</td>\n",
       "      <td>USDT</td>\n",
       "    </tr>\n",
       "    <tr>\n",
       "      <th>2020-10-08</th>\n",
       "      <td>1.00</td>\n",
       "      <td>1.01</td>\n",
       "      <td>0.99</td>\n",
       "      <td>1.00</td>\n",
       "      <td>1.00</td>\n",
       "      <td>33458865269.00</td>\n",
       "      <td>USDT</td>\n",
       "    </tr>\n",
       "    <tr>\n",
       "      <th>2020-10-09</th>\n",
       "      <td>NaN</td>\n",
       "      <td>NaN</td>\n",
       "      <td>NaN</td>\n",
       "      <td>NaN</td>\n",
       "      <td>NaN</td>\n",
       "      <td>NaN</td>\n",
       "      <td>USDT</td>\n",
       "    </tr>\n",
       "    <tr>\n",
       "      <th>2020-10-10</th>\n",
       "      <td>1.00</td>\n",
       "      <td>1.00</td>\n",
       "      <td>1.00</td>\n",
       "      <td>1.00</td>\n",
       "      <td>1.00</td>\n",
       "      <td>41298643279.00</td>\n",
       "      <td>USDT</td>\n",
       "    </tr>\n",
       "  </tbody>\n",
       "</table>\n",
       "</div>"
      ],
      "text/plain": [
       "            USDT Open  USDT High  USDT Low  USDT Close  USDT Adj Close  \\\n",
       "Date                                                                     \n",
       "2020-10-06       1.00       1.01      1.00        1.00            1.00   \n",
       "2020-10-07       1.00       1.01      1.00        1.00            1.00   \n",
       "2020-10-08       1.00       1.01      0.99        1.00            1.00   \n",
       "2020-10-09        NaN        NaN       NaN         NaN             NaN   \n",
       "2020-10-10       1.00       1.00      1.00        1.00            1.00   \n",
       "\n",
       "              USDT Volume ticker  \n",
       "Date                              \n",
       "2020-10-06 36772723041.00   USDT  \n",
       "2020-10-07 28509871425.00   USDT  \n",
       "2020-10-08 33458865269.00   USDT  \n",
       "2020-10-09            NaN   USDT  \n",
       "2020-10-10 41298643279.00   USDT  "
      ]
     },
     "execution_count": 140,
     "metadata": {},
     "output_type": "execute_result"
    }
   ],
   "source": [
    "Euthereum_data.columns = ['ETH Open', 'ETH High', 'ETH Low', 'ETH Close', 'ETH Adj Close', 'ETH Volume','ticker']\n",
    "Doge_data.columns = ['DOGE Open', 'DOGE High', 'DOGE Low', 'DOGE Close', 'DOGE Adj Close', 'DOGE Volume','ticker']\n",
    "Bitcoin_data.columns = ['BTC Open', 'BTC High', 'BTC Low', 'BTC Close', 'BTC Adj Close', 'BTC Volume','ticker'] \n",
    "Sushi_data.columns = ['SUSHI Open', 'SUSHI High', 'SUSHI Low', 'SUSHI Close', 'SUSHI Adj Close', 'SUSHI Volume','ticker'] \n",
    "Tether_data.columns = ['USDT Open', 'USDT High', 'USDT Low', 'USDT Close', 'USDT Adj Close', 'USDT Volume','ticker'] \n",
    "Tether_data.head()"
   ]
  },
  {
   "cell_type": "code",
   "execution_count": 141,
   "metadata": {},
   "outputs": [
    {
     "data": {
      "text/plain": [
       "<matplotlib.legend.Legend at 0x26e19042548>"
      ]
     },
     "execution_count": 141,
     "metadata": {},
     "output_type": "execute_result"
    },
    {
     "data": {
      "image/png": "[encoded data removed]",
      "text/plain": [
       "<Figure size 864x432 with 1 Axes>"
      ]
     },
     "metadata": {},
     "output_type": "display_data"
    }
   ],
   "source": [
    "Bitcoin_data['Total Traded'] = Bitcoin_data['BTC Open'] * Bitcoin_data['BTC Volume']\n",
    "Bitcoin_data.dropna(inplace=True)\n",
    "Bitcoin_data.drop(columns='ticker', inplace=True)\n",
    " \n",
    "Euthereum_data['Total Traded'] = Euthereum_data['ETH Open'] * Euthereum_data['ETH Volume']\n",
    "Euthereum_data.dropna(inplace=True)\n",
    "Euthereum_data.drop(columns='ticker', inplace=True)\n",
    " \n",
    "Doge_data['Total Traded'] = Doge_data['DOGE Open'] * Doge_data['DOGE Volume']\n",
    "Doge_data.dropna(inplace=True)\n",
    "Doge_data.drop(columns='ticker', inplace=True)\n",
    " \n",
    "Sushi_data['Total Traded'] = Sushi_data['SUSHI Open'] * Sushi_data['SUSHI Volume']\n",
    "Sushi_data.dropna(inplace=True)\n",
    "Sushi_data.drop(columns='ticker', inplace=True)\n",
    " \n",
    "Tether_data['Total Traded'] = Tether_data['USDT Open'] * Tether_data['USDT Volume']\n",
    "Tether_data.dropna(inplace=True)\n",
    "Tether_data.drop(columns='ticker', inplace=True)\n",
    "\n",
    "#Trade_data=pd.concat([Euthereum_data,Bitcoin_data,Doge_data,Sushi_data,Tether_data],axis='rows').loc[:,['Total Traded','ticker']].dropna()\n",
    "#Trade_data.reset_index(inplace=True)\n",
    "\n",
    "\n",
    "fig = plt.figure(figsize = (12, 6))\n",
    "plt.title('Total Traded')\n",
    "\n",
    "Bitcoin_data['Total Traded'].plot(label = 'BTC')\n",
    "Euthereum_data['Total Traded'].plot(label = 'ETC')\n",
    "Doge_data['Total Traded'].plot(label = 'Doge')\n",
    "Sushi_data['Total Traded'].plot(label = 'Sushi')\n",
    "Tether_data['Total Traded'].plot(label = 'USDT')\n",
    "plt.legend()\n",
    "\n"
   ]
  },
  {
   "cell_type": "markdown",
   "metadata": {},
   "source": [
    "*Not surprising at all to see Bitcoin as the most traded coin, looks like there was a high amount traded around February along with a little rise in the number Euthereum of totally traded between April/May (the period around which it reached its highest value)*"
   ]
  },
  {
   "cell_type": "code",
   "execution_count": 142,
   "metadata": {},
   "outputs": [
    {
     "data": {
      "text/html": [
       "<div>\n",
       "<style scoped>\n",
       "    .dataframe tbody tr th:only-of-type {\n",
       "        vertical-align: middle;\n",
       "    }\n",
       "\n",
       "    .dataframe tbody tr th {\n",
       "        vertical-align: top;\n",
       "    }\n",
       "\n",
       "    .dataframe thead th {\n",
       "        text-align: right;\n",
       "    }\n",
       "</style>\n",
       "<table border=\"1\" class=\"dataframe\">\n",
       "  <thead>\n",
       "    <tr style=\"text-align: right;\">\n",
       "      <th></th>\n",
       "      <th>ETH Open</th>\n",
       "      <th>ETH High</th>\n",
       "      <th>ETH Low</th>\n",
       "      <th>ETH Close</th>\n",
       "      <th>ETH Adj Close</th>\n",
       "      <th>ETH Volume</th>\n",
       "      <th>Total Traded</th>\n",
       "      <th>DOGE Open</th>\n",
       "      <th>DOGE High</th>\n",
       "      <th>DOGE Low</th>\n",
       "      <th>...</th>\n",
       "      <th>SUSHI Adj Close</th>\n",
       "      <th>SUSHI Volume</th>\n",
       "      <th>Total Traded</th>\n",
       "      <th>USDT Open</th>\n",
       "      <th>USDT High</th>\n",
       "      <th>USDT Low</th>\n",
       "      <th>USDT Close</th>\n",
       "      <th>USDT Adj Close</th>\n",
       "      <th>USDT Volume</th>\n",
       "      <th>Total Traded</th>\n",
       "    </tr>\n",
       "  </thead>\n",
       "  <tbody>\n",
       "    <tr>\n",
       "      <th>count</th>\n",
       "      <td>208.00</td>\n",
       "      <td>208.00</td>\n",
       "      <td>208.00</td>\n",
       "      <td>208.00</td>\n",
       "      <td>208.00</td>\n",
       "      <td>208.00</td>\n",
       "      <td>208.00</td>\n",
       "      <td>208.00</td>\n",
       "      <td>208.00</td>\n",
       "      <td>208.00</td>\n",
       "      <td>...</td>\n",
       "      <td>208.00</td>\n",
       "      <td>208.00</td>\n",
       "      <td>208.00</td>\n",
       "      <td>208.00</td>\n",
       "      <td>208.00</td>\n",
       "      <td>208.00</td>\n",
       "      <td>208.00</td>\n",
       "      <td>208.00</td>\n",
       "      <td>208.00</td>\n",
       "      <td>208.00</td>\n",
       "    </tr>\n",
       "    <tr>\n",
       "      <th>mean</th>\n",
       "      <td>2522.32</td>\n",
       "      <td>2624.88</td>\n",
       "      <td>2408.89</td>\n",
       "      <td>2530.86</td>\n",
       "      <td>2530.86</td>\n",
       "      <td>27096181918.61</td>\n",
       "      <td>72821726673370.72</td>\n",
       "      <td>0.25</td>\n",
       "      <td>0.27</td>\n",
       "      <td>0.23</td>\n",
       "      <td>...</td>\n",
       "      <td>10.38</td>\n",
       "      <td>432428806.75</td>\n",
       "      <td>5423760310.71</td>\n",
       "      <td>1.00</td>\n",
       "      <td>1.00</td>\n",
       "      <td>1.00</td>\n",
       "      <td>1.00</td>\n",
       "      <td>1.00</td>\n",
       "      <td>88724639606.41</td>\n",
       "      <td>88780547566.95</td>\n",
       "    </tr>\n",
       "    <tr>\n",
       "      <th>std</th>\n",
       "      <td>886.92</td>\n",
       "      <td>922.39</td>\n",
       "      <td>847.48</td>\n",
       "      <td>888.56</td>\n",
       "      <td>888.56</td>\n",
       "      <td>12873118179.04</td>\n",
       "      <td>49646680511046.30</td>\n",
       "      <td>0.13</td>\n",
       "      <td>0.15</td>\n",
       "      <td>0.12</td>\n",
       "      <td>...</td>\n",
       "      <td>4.19</td>\n",
       "      <td>374480771.94</td>\n",
       "      <td>6394152226.31</td>\n",
       "      <td>0.00</td>\n",
       "      <td>0.00</td>\n",
       "      <td>0.00</td>\n",
       "      <td>0.00</td>\n",
       "      <td>0.00</td>\n",
       "      <td>46717738673.50</td>\n",
       "      <td>46775105667.76</td>\n",
       "    </tr>\n",
       "    <tr>\n",
       "      <th>min</th>\n",
       "      <td>341.09</td>\n",
       "      <td>342.59</td>\n",
       "      <td>335.53</td>\n",
       "      <td>341.02</td>\n",
       "      <td>341.02</td>\n",
       "      <td>10537119715.00</td>\n",
       "      <td>3594123813264.87</td>\n",
       "      <td>0.00</td>\n",
       "      <td>0.00</td>\n",
       "      <td>0.00</td>\n",
       "      <td>...</td>\n",
       "      <td>0.62</td>\n",
       "      <td>14098346.00</td>\n",
       "      <td>9360921.09</td>\n",
       "      <td>1.00</td>\n",
       "      <td>1.00</td>\n",
       "      <td>0.99</td>\n",
       "      <td>1.00</td>\n",
       "      <td>1.00</td>\n",
       "      <td>28509871425.00</td>\n",
       "      <td>28557882048.48</td>\n",
       "    </tr>\n",
       "    <tr>\n",
       "      <th>25%</th>\n",
       "      <td>2133.11</td>\n",
       "      <td>2193.36</td>\n",
       "      <td>2054.14</td>\n",
       "      <td>2138.50</td>\n",
       "      <td>2138.50</td>\n",
       "      <td>18307095839.00</td>\n",
       "      <td>46826130741887.48</td>\n",
       "      <td>0.20</td>\n",
       "      <td>0.21</td>\n",
       "      <td>0.19</td>\n",
       "      <td>...</td>\n",
       "      <td>8.15</td>\n",
       "      <td>219492233.75</td>\n",
       "      <td>1821059591.50</td>\n",
       "      <td>1.00</td>\n",
       "      <td>1.00</td>\n",
       "      <td>1.00</td>\n",
       "      <td>1.00</td>\n",
       "      <td>1.00</td>\n",
       "      <td>55433675337.25</td>\n",
       "      <td>55427668106.69</td>\n",
       "    </tr>\n",
       "    <tr>\n",
       "      <th>50%</th>\n",
       "      <td>2532.25</td>\n",
       "      <td>2653.41</td>\n",
       "      <td>2402.14</td>\n",
       "      <td>2537.05</td>\n",
       "      <td>2537.05</td>\n",
       "      <td>23805484449.50</td>\n",
       "      <td>63911158421306.05</td>\n",
       "      <td>0.25</td>\n",
       "      <td>0.26</td>\n",
       "      <td>0.24</td>\n",
       "      <td>...</td>\n",
       "      <td>10.82</td>\n",
       "      <td>341564249.00</td>\n",
       "      <td>3735238341.65</td>\n",
       "      <td>1.00</td>\n",
       "      <td>1.00</td>\n",
       "      <td>1.00</td>\n",
       "      <td>1.00</td>\n",
       "      <td>1.00</td>\n",
       "      <td>77363753748.50</td>\n",
       "      <td>77391295647.71</td>\n",
       "    </tr>\n",
       "    <tr>\n",
       "      <th>75%</th>\n",
       "      <td>3213.33</td>\n",
       "      <td>3300.52</td>\n",
       "      <td>3069.89</td>\n",
       "      <td>3224.51</td>\n",
       "      <td>3224.51</td>\n",
       "      <td>31886485436.00</td>\n",
       "      <td>83081851811515.16</td>\n",
       "      <td>0.32</td>\n",
       "      <td>0.33</td>\n",
       "      <td>0.30</td>\n",
       "      <td>...</td>\n",
       "      <td>13.23</td>\n",
       "      <td>523265027.00</td>\n",
       "      <td>6599899353.45</td>\n",
       "      <td>1.00</td>\n",
       "      <td>1.00</td>\n",
       "      <td>1.00</td>\n",
       "      <td>1.00</td>\n",
       "      <td>1.00</td>\n",
       "      <td>100285985201.75</td>\n",
       "      <td>100372615373.91</td>\n",
       "    </tr>\n",
       "    <tr>\n",
       "      <th>max</th>\n",
       "      <td>4174.64</td>\n",
       "      <td>4362.35</td>\n",
       "      <td>3868.99</td>\n",
       "      <td>4168.70</td>\n",
       "      <td>4168.70</td>\n",
       "      <td>84482912776.00</td>\n",
       "      <td>300180370644222.88</td>\n",
       "      <td>0.69</td>\n",
       "      <td>0.74</td>\n",
       "      <td>0.61</td>\n",
       "      <td>...</td>\n",
       "      <td>21.44</td>\n",
       "      <td>2720807434.00</td>\n",
       "      <td>58517910089.55</td>\n",
       "      <td>1.01</td>\n",
       "      <td>1.03</td>\n",
       "      <td>1.00</td>\n",
       "      <td>1.01</td>\n",
       "      <td>1.01</td>\n",
       "      <td>279067455600.00</td>\n",
       "      <td>279240477422.47</td>\n",
       "    </tr>\n",
       "  </tbody>\n",
       "</table>\n",
       "<p>8 rows × 35 columns</p>\n",
       "</div>"
      ],
      "text/plain": [
       "       ETH Open  ETH High  ETH Low  ETH Close  ETH Adj Close     ETH Volume  \\\n",
       "count    208.00    208.00   208.00     208.00         208.00         208.00   \n",
       "mean    2522.32   2624.88  2408.89    2530.86        2530.86 27096181918.61   \n",
       "std      886.92    922.39   847.48     888.56         888.56 12873118179.04   \n",
       "min      341.09    342.59   335.53     341.02         341.02 10537119715.00   \n",
       "25%     2133.11   2193.36  2054.14    2138.50        2138.50 18307095839.00   \n",
       "50%     2532.25   2653.41  2402.14    2537.05        2537.05 23805484449.50   \n",
       "75%     3213.33   3300.52  3069.89    3224.51        3224.51 31886485436.00   \n",
       "max     4174.64   4362.35  3868.99    4168.70        4168.70 84482912776.00   \n",
       "\n",
       "            Total Traded  DOGE Open  DOGE High  DOGE Low  ...  \\\n",
       "count             208.00     208.00     208.00    208.00  ...   \n",
       "mean   72821726673370.72       0.25       0.27      0.23  ...   \n",
       "std    49646680511046.30       0.13       0.15      0.12  ...   \n",
       "min     3594123813264.87       0.00       0.00      0.00  ...   \n",
       "25%    46826130741887.48       0.20       0.21      0.19  ...   \n",
       "50%    63911158421306.05       0.25       0.26      0.24  ...   \n",
       "75%    83081851811515.16       0.32       0.33      0.30  ...   \n",
       "max   300180370644222.88       0.69       0.74      0.61  ...   \n",
       "\n",
       "       SUSHI Adj Close  SUSHI Volume   Total Traded  USDT Open  USDT High  \\\n",
       "count           208.00        208.00         208.00     208.00     208.00   \n",
       "mean             10.38  432428806.75  5423760310.71       1.00       1.00   \n",
       "std               4.19  374480771.94  6394152226.31       0.00       0.00   \n",
       "min               0.62   14098346.00     9360921.09       1.00       1.00   \n",
       "25%               8.15  219492233.75  1821059591.50       1.00       1.00   \n",
       "50%              10.82  341564249.00  3735238341.65       1.00       1.00   \n",
       "75%              13.23  523265027.00  6599899353.45       1.00       1.00   \n",
       "max              21.44 2720807434.00 58517910089.55       1.01       1.03   \n",
       "\n",
       "       USDT Low  USDT Close  USDT Adj Close     USDT Volume    Total Traded  \n",
       "count    208.00      208.00          208.00          208.00          208.00  \n",
       "mean       1.00        1.00            1.00  88724639606.41  88780547566.95  \n",
       "std        0.00        0.00            0.00  46717738673.50  46775105667.76  \n",
       "min        0.99        1.00            1.00  28509871425.00  28557882048.48  \n",
       "25%        1.00        1.00            1.00  55433675337.25  55427668106.69  \n",
       "50%        1.00        1.00            1.00  77363753748.50  77391295647.71  \n",
       "75%        1.00        1.00            1.00 100285985201.75 100372615373.91  \n",
       "max        1.00        1.01            1.01 279067455600.00 279240477422.47  \n",
       "\n",
       "[8 rows x 35 columns]"
      ]
     },
     "execution_count": 142,
     "metadata": {},
     "output_type": "execute_result"
    }
   ],
   "source": [
    "Crypto_data = pd.concat([Euthereum_data, Doge_data, Bitcoin_data, Sushi_data, Tether_data], axis=\"columns\", join=\"inner\").dropna()\n",
    "Crypto_data.describe()"
   ]
  },
  {
   "cell_type": "code",
   "execution_count": 143,
   "metadata": {},
   "outputs": [],
   "source": [
    "#Find the Cumulative Returns\n",
    "Crypto_data[['ETH Close','BTC Close','DOGE Close','SUSHI Close','USDT Close']].pct_change().dropna()\n",
    "Crypto_Daily_Returns=Crypto_data[['ETH Close','BTC Close','DOGE Close','SUSHI Close','USDT Close']].pct_change().dropna()"
   ]
  },
  {
   "cell_type": "code",
   "execution_count": 144,
   "metadata": {},
   "outputs": [
    {
     "data": {
      "text/plain": [
       "<AxesSubplot:title={'center':'Cumulative Returns'}, xlabel='Date'>"
      ]
     },
     "execution_count": 144,
     "metadata": {},
     "output_type": "execute_result"
    },
    {
     "data": {
      "image/png": "[encoded data removed]",
      "text/plain": [
       "<Figure size 1440x720 with 1 Axes>"
      ]
     },
     "metadata": {},
     "output_type": "display_data"
    }
   ],
   "source": [
    "#Plot the cumulative Returns\n",
    "(1+Crypto_Daily_Returns).cumprod().plot(figsize=(20, 10), title=\"Cumulative Returns\")"
   ]
  },
  {
   "cell_type": "markdown",
   "metadata": {},
   "source": [
    "## *Growth dominated by lower capitalization and Meme coins*\n",
    "\n",
    "As we can see with the plot of the cummulative returns over the period of *oct-2020* to *oct-2021*, shows SUSHI and DogeCoin as the assets with the highest levels of growth. One argument in favor of including these types of assets in our portfolio in combination with blue chip assets like Bitcoin and Ethereum."
   ]
  },
  {
   "cell_type": "code",
   "execution_count": 145,
   "metadata": {},
   "outputs": [
    {
     "data": {
      "text/plain": [
       "Text(0.5, 1.0, 'Daily return distribution per assets')"
      ]
     },
     "execution_count": 145,
     "metadata": {},
     "output_type": "execute_result"
    },
    {
     "data": {
      "image/png": "[encoded data removed]",
      "text/plain": [
       "<Figure size 1440x720 with 1 Axes>"
      ]
     },
     "metadata": {},
     "output_type": "display_data"
    }
   ],
   "source": [
    "# we look at the distribution of the daily returns to see outliers and volatility\n",
    "import seaborn as sns\n",
    "\n",
    "sns.set_theme(style=\"ticks\", palette=\"pastel\")\n",
    "\n",
    "t=sns.load_dataset(\"tips\")\n",
    "\n",
    "Crypto_Daily_Returns=Crypto_data[['ETH Close','BTC Close','DOGE Close','SUSHI Close','USDT Close']].pct_change().dropna().reset_index()\n",
    "Crypto_Daily_Returns_unpivoted=Crypto_Daily_Returns.melt(id_vars='Date',var_name='assets',value_name='daily return').set_index('Date')\n",
    "Crypto_Daily_Returns_unpivoted.index=pd.DatetimeIndex(Crypto_Daily_Returns_unpivoted.index)\n",
    "Crypto_Daily_Returns_unpivoted.index.year\n",
    "\n",
    "\n",
    "\n",
    "sns.set(rc = {'figure.figsize':(20,10)})\n",
    "sns.violinplot(x=\"assets\", y=\"daily return\",\n",
    "            hue=\"assets\", \n",
    "            data=Crypto_Daily_Returns_unpivoted).set_title(\"Daily return distribution per assets\")\n",
    "#t"
   ]
  },
  {
   "cell_type": "markdown",
   "metadata": {},
   "source": [
    "The boxplot shows the presence of a lot of outlier data in meme coins (Doge) and low Cap coins (Sushi). the dispersion of data around the mean daily returns seems less pronounced in blue chip large cap coins. "
   ]
  },
  {
   "cell_type": "code",
   "execution_count": 146,
   "metadata": {},
   "outputs": [
    {
     "data": {
      "text/plain": [
       "DOGE Close    1.54\n",
       "SUSHI Close   1.44\n",
       "ETH Close     0.28\n",
       "BTC Close     0.23\n",
       "USDT Close    0.00\n",
       "dtype: float64"
      ]
     },
     "execution_count": 146,
     "metadata": {},
     "output_type": "execute_result"
    }
   ],
   "source": [
    "\n",
    "Crypto_Daily_Returns.std().sort_values(ascending=False)\n"
   ]
  },
  {
   "cell_type": "markdown",
   "metadata": {},
   "source": [
    "Volatility is confirmed  by the observations in the violon plot showing more volatility in meme and low cap coins"
   ]
  },
  {
   "cell_type": "code",
   "execution_count": 147,
   "metadata": {},
   "outputs": [
    {
     "data": {
      "text/plain": [
       "<AxesSubplot:>"
      ]
     },
     "execution_count": 147,
     "metadata": {},
     "output_type": "execute_result"
    },
    {
     "data": {
      "image/png": "[encoded data removed]",
      "text/plain": [
       "<Figure size 1440x720 with 1 Axes>"
      ]
     },
     "metadata": {},
     "output_type": "display_data"
    }
   ],
   "source": [
    "#Ploting the Sharpe ratio\n",
    "annual_std = Crypto_Daily_Returns.std()* np.sqrt(365)\n",
    "sharpe_ratios=(Crypto_Daily_Returns.mean()*365)/annual_std\n",
    "sharpe_ratios.plot.bar('Sharpe Ratios')\n"
   ]
  },
  {
   "cell_type": "markdown",
   "metadata": {},
   "source": [
    "The data suggests that the highest sharpe ratios is in Ethereum which would indicate making the portfolio overweight in ETH. The stablecoin (USDT) as expected has a sharpe ratio closer to 0 indicating using it to reduce volatility in the portfolio"
   ]
  },
  {
   "cell_type": "code",
   "execution_count": 148,
   "metadata": {},
   "outputs": [
    {
     "data": {
      "application/vnd.jupyter.widget-view+json": {
       "model_id": "6c7aaece9c244baab2cb730f695e3f9f",
       "version_major": 2,
       "version_minor": 0
      },
      "text/plain": [
       "BokehModel(combine_events=True, render_bundle={'docs_json': {'d9e90ce4-1d37-4a4b-bc2e-1c8701d7dfb4': {'defs': …"
      ]
     },
     "metadata": {},
     "output_type": "display_data"
    },
    {
     "data": {
      "text/html": [
       "<div style=\"display: none\"></div>"
      ],
      "text/plain": [
       ":DynamicMap   [year]\n",
       "   :NdOverlay   [ticker]\n",
       "      :Curve   [Date]   (Volume)"
      ]
     },
     "execution_count": 148,
     "metadata": {},
     "output_type": "execute_result"
    }
   ],
   "source": [
    "\n",
    "\n",
    "test=volume_data\n",
    "test['year-month']=test['Date'].str.slice(0,7,1)\n",
    "test['year']=test['Date'].str.slice(0,4,1)\n",
    "test\n",
    "\n",
    "test.hvplot.line(x='Date',y='Volume',xlabel='Date',ylabel='Volume',title='Intraday Volume',by='ticker',figsize=(500,100),groupby='year')\n",
    "\n",
    "\n",
    "\n",
    "\n"
   ]
  },
  {
   "cell_type": "code",
   "execution_count": 149,
   "metadata": {},
   "outputs": [
    {
     "data": {
      "application/vnd.jupyter.widget-view+json": {
       "model_id": "d7fda6c8376545468f396bdec4d65260",
       "version_major": 2,
       "version_minor": 0
      },
      "text/plain": [
       "BokehModel(combine_events=True, render_bundle={'docs_json': {'ab3be9bb-e56d-44bf-9b24-032b5178a9a8': {'defs': …"
      ]
     },
     "metadata": {},
     "output_type": "display_data"
    },
    {
     "data": {
      "text/html": [
       "<div style=\"display: none\"></div>"
      ],
      "text/plain": [
       ":DynamicMap   [year]\n",
       "   :NdOverlay   [ticker]\n",
       "      :Curve   [Date]   (Total Traded)"
      ]
     },
     "execution_count": 149,
     "metadata": {},
     "output_type": "execute_result"
    }
   ],
   "source": [
    "Trade_data.head()\n",
    "Trade_data['year']=test['Date'].str.slice(0,4,1)\n",
    "\n",
    "Trade_data.hvplot.line(x='Date',y='Total Traded',xlabel='Date',ylabel='Daily Traded Total',title='Intraday Traded',by='ticker',figsize=(700,1000),groupby='year')"
   ]
  },
  {
   "cell_type": "markdown",
   "metadata": {},
   "source": [
    "We can see that the volatility is related to the traded volume. the bigger coins have highest trading activities. Bitcoin is more traded while USDT has the foremost amount of volume on exchanges\n",
    "\n"
   ]
  },
  {
   "cell_type": "code",
   "execution_count": 150,
   "metadata": {},
   "outputs": [
    {
     "data": {
      "image/png": "[encoded data removed]",
      "text/plain": [
       "<Figure size 1440x1080 with 1 Axes>"
      ]
     },
     "metadata": {},
     "output_type": "display_data"
    }
   ],
   "source": [
    "s_test= Crypto_data.loc[:,['ETH Close','ETH High']].dropna()\n",
    "plt.figure(figsize=(20,15))\n",
    "\n",
    "s_test['ETH Close'].plot(label='close')\n",
    "s_test['ETH High'].plot(label='high')\n",
    "plt.legend(loc='upper right')\n",
    "plt.show()\n"
   ]
  },
  {
   "cell_type": "markdown",
   "metadata": {},
   "source": [
    "# What is the optimal Portfolio for reducing exposure to volatility or to risk\n",
    "\n",
    "In this section we compute the daily returns of the close prices for each asset and annualized the covariance matrix"
   ]
  },
  {
   "cell_type": "code",
   "execution_count": 151,
   "metadata": {},
   "outputs": [],
   "source": [
    "#filter the columns use\n",
    "col=['ETH Close','BTC Close','DOGE Close','USDT Close','SUSHI Close']\n",
    "df=Crypto_data[col]\n",
    "\n",
    "#rename the columns to tickers\n",
    "df.rename(columns={'ETH Close':'ETH','BTC Close':'BTC','DOGE Close':'DOGE','USDT Close':'USDT','SUSHI Close':'SUSHI'},inplace=True)\n",
    "df.index=pd.DatetimeIndex(df.index)\n",
    "\n",
    "#compute percent change and covariance matrix\n",
    "daily_returns=df.pct_change().dropna()\n",
    "variance_matrix=len(daily_returns.index)*daily_returns.cov()\n"
   ]
  },
  {
   "cell_type": "markdown",
   "metadata": {},
   "source": [
    " We need to loop through multiple combinations of portfolio and store the returns and volatility encounterd in each scenario"
   ]
  },
  {
   "cell_type": "code",
   "execution_count": 152,
   "metadata": {},
   "outputs": [
    {
     "data": {
      "text/plain": [
       "ETH      8.83\n",
       "BTC      6.50\n",
       "DOGE    43.86\n",
       "USDT    -0.00\n",
       "SUSHI   37.50\n",
       "dtype: float64"
      ]
     },
     "execution_count": 152,
     "metadata": {},
     "output_type": "execute_result"
    }
   ],
   "source": [
    "#create empty list to store all returns, volatility and weights\n",
    "port_returns=[]\n",
    "port_volatility=[]\n",
    "port_weights=[]\n",
    "\n",
    "#find the number of assets to assign weight to\n",
    "num_assets=len(daily_returns.columns)\n",
    "\n",
    "#find the number of scenarios\n",
    "num_portfolios=15000\n",
    "\n",
    "#compute the expected return which is the mean of the retuns\n",
    "individual_returns=df.pct_change().mean()*365#len(daily_returns.index)#df[(df.index=='2020-10-06')|(df.index=='2021-10-06')].pct_change().mean()*100\n",
    "\n",
    "#print the annualized returns\n",
    "individual_returns\n",
    "\n",
    "\n",
    "\n"
   ]
  },
  {
   "cell_type": "code",
   "execution_count": 153,
   "metadata": {},
   "outputs": [],
   "source": [
    "#we loop through each scenarios to find the weights, returns and volatility encountered\n",
    "for port in range(num_portfolios):\n",
    "    weights=np.random.random(num_assets)\n",
    "    weights=weights/np.sum(weights)\n",
    "    port_weights.append(weights)\n",
    "    returns= np.dot(weights,individual_returns)\n",
    "    port_returns.append(returns)\n",
    "\n",
    "    var=variance_matrix.mul(weights,axis=0).mul(weights,axis=1).sum().sum()\n",
    "    sd=np.sqrt(var)\n",
    "\n",
    "    ann_sd=sd*np.sqrt(len(daily_returns.index))\n",
    "    port_volatility.append(ann_sd)"
   ]
  },
  {
   "cell_type": "code",
   "execution_count": 154,
   "metadata": {},
   "outputs": [],
   "source": [
    "#create dictionary to store all the retuns and their volatility from all the scenarios\n",
    "data ={'returns':port_returns,'Volatility':port_volatility}\n",
    "for counter,ticker in enumerate(df.columns.to_list()):\n",
    "    data[ticker+' weight'] = [w[counter] for w in port_weights]\n"
   ]
  },
  {
   "cell_type": "code",
   "execution_count": 155,
   "metadata": {},
   "outputs": [],
   "source": [
    "#create data frame from dictionnary\n",
    "portfolio=pd.DataFrame(data)"
   ]
  },
  {
   "cell_type": "code",
   "execution_count": 156,
   "metadata": {},
   "outputs": [],
   "source": [
    "#minimum volatility:\n",
    "min_vol_port=portfolio.iloc[[portfolio['Volatility'].idxmin()]]\n",
    "\n",
    "#highest sharpe ratio:\n",
    "optimal_sharpe_portfolio=portfolio.loc[[((portfolio['returns']-0)/portfolio['Volatility']).idxmax()]]\n"
   ]
  },
  {
   "cell_type": "code",
   "execution_count": 157,
   "metadata": {},
   "outputs": [],
   "source": [
    "min_weight_df=pd.DataFrame(min_vol_port.iloc[:,2:].unstack()).replace(' weight','').reset_index().rename(columns={'level_0':'ticker',0:'weight'}).drop('level_1',axis=1)\n",
    "min_weight_df['ticker']= min_weight_df['ticker'].str.replace(' weight','')\n",
    "\n",
    "optimal_weight_df=pd.DataFrame(optimal_sharpe_portfolio.iloc[:,2:].unstack()).replace(' weight','').reset_index().rename(columns={'level_0':'ticker',0:'weight'}).drop('level_1',axis=1)\n",
    "optimal_weight_df['ticker']= optimal_weight_df['ticker'].str.replace(' weight','')\n"
   ]
  },
  {
   "cell_type": "code",
   "execution_count": 158,
   "metadata": {},
   "outputs": [
    {
     "data": {
      "application/vnd.plotly.v1+json": {
       "config": {
        "plotlyServerURL": "https://plot.ly"
       },
       "data": [
        {
         "domain": {
          "x": [
           0,
           1
          ],
          "y": [
           0,
           1
          ]
         },
         "hovertemplate": "ticker=%{label}<br>weight=%{value}<extra></extra>",
         "labels": [
          "ETH",
          "BTC",
          "DOGE",
          "USDT",
          "SUSHI"
         ],
         "legendgroup": "",
         "name": "",
         "showlegend": true,
         "type": "pie",
         "values": [
          0.18526041678201582,
          0.1310969823441271,
          0.00963714771911239,
          0.6541574777430015,
          0.019847975411743254
         ]
        }
       ],
       "layout": {
        "font": {
         "size": 18
        },
        "legend": {
         "tracegroupgap": 0
        },
        "margin": {
         "t": 60
        },
        "template": {
         "data": {
          "bar": [
           {
            "error_x": {
             "color": "#2a3f5f"
            },
            "error_y": {
             "color": "#2a3f5f"
            },
            "marker": {
             "line": {
              "color": "#E5ECF6",
              "width": 0.5
             },
             "pattern": {
              "fillmode": "overlay",
              "size": 10,
              "solidity": 0.2
             }
            },
            "type": "bar"
           }
          ],
          "barpolar": [
           {
            "marker": {
             "line": {
              "color": "#E5ECF6",
              "width": 0.5
             },
             "pattern": {
              "fillmode": "overlay",
              "size": 10,
              "solidity": 0.2
             }
            },
            "type": "barpolar"
           }
          ],
          "carpet": [
           {
            "aaxis": {
             "endlinecolor": "#2a3f5f",
             "gridcolor": "white",
             "linecolor": "white",
             "minorgridcolor": "white",
             "startlinecolor": "#2a3f5f"
            },
            "baxis": {
             "endlinecolor": "#2a3f5f",
             "gridcolor": "white",
             "linecolor": "white",
             "minorgridcolor": "white",
             "startlinecolor": "#2a3f5f"
            },
            "type": "carpet"
           }
          ],
          "choropleth": [
           {
            "colorbar": {
             "outlinewidth": 0,
             "ticks": ""
            },
            "type": "choropleth"
           }
          ],
          "contour": [
           {
            "colorbar": {
             "outlinewidth": 0,
             "ticks": ""
            },
            "colorscale": [
             [
              0,
              "#0d0887"
             ],
             [
              0.1111111111111111,
              "#46039f"
             ],
             [
              0.2222222222222222,
              "#7201a8"
             ],
             [
              0.3333333333333333,
              "#9c179e"
             ],
             [
              0.4444444444444444,
              "#bd3786"
             ],
             [
              0.5555555555555556,
              "#d8576b"
             ],
             [
              0.6666666666666666,
              "#ed7953"
             ],
             [
              0.7777777777777778,
              "#fb9f3a"
             ],
             [
              0.8888888888888888,
              "#fdca26"
             ],
             [
              1,
              "#f0f921"
             ]
            ],
            "type": "contour"
           }
          ],
          "contourcarpet": [
           {
            "colorbar": {
             "outlinewidth": 0,
             "ticks": ""
            },
            "type": "contourcarpet"
           }
          ],
          "heatmap": [
           {
            "colorbar": {
             "outlinewidth": 0,
             "ticks": ""
            },
            "colorscale": [
             [
              0,
              "#0d0887"
             ],
             [
              0.1111111111111111,
              "#46039f"
             ],
             [
              0.2222222222222222,
              "#7201a8"
             ],
             [
              0.3333333333333333,
              "#9c179e"
             ],
             [
              0.4444444444444444,
              "#bd3786"
             ],
             [
              0.5555555555555556,
              "#d8576b"
             ],
             [
              0.6666666666666666,
              "#ed7953"
             ],
             [
              0.7777777777777778,
              "#fb9f3a"
             ],
             [
              0.8888888888888888,
              "#fdca26"
             ],
             [
              1,
              "#f0f921"
             ]
            ],
            "type": "heatmap"
           }
          ],
          "heatmapgl": [
           {
            "colorbar": {
             "outlinewidth": 0,
             "ticks": ""
            },
            "colorscale": [
             [
              0,
              "#0d0887"
             ],
             [
              0.1111111111111111,
              "#46039f"
             ],
             [
              0.2222222222222222,
              "#7201a8"
             ],
             [
              0.3333333333333333,
              "#9c179e"
             ],
             [
              0.4444444444444444,
              "#bd3786"
             ],
             [
              0.5555555555555556,
              "#d8576b"
             ],
             [
              0.6666666666666666,
              "#ed7953"
             ],
             [
              0.7777777777777778,
              "#fb9f3a"
             ],
             [
              0.8888888888888888,
              "#fdca26"
             ],
             [
              1,
              "#f0f921"
             ]
            ],
            "type": "heatmapgl"
           }
          ],
          "histogram": [
           {
            "marker": {
             "pattern": {
              "fillmode": "overlay",
              "size": 10,
              "solidity": 0.2
             }
            },
            "type": "histogram"
           }
          ],
          "histogram2d": [
           {
            "colorbar": {
             "outlinewidth": 0,
             "ticks": ""
            },
            "colorscale": [
             [
              0,
              "#0d0887"
             ],
             [
              0.1111111111111111,
              "#46039f"
             ],
             [
              0.2222222222222222,
              "#7201a8"
             ],
             [
              0.3333333333333333,
              "#9c179e"
             ],
             [
              0.4444444444444444,
              "#bd3786"
             ],
             [
              0.5555555555555556,
              "#d8576b"
             ],
             [
              0.6666666666666666,
              "#ed7953"
             ],
             [
              0.7777777777777778,
              "#fb9f3a"
             ],
             [
              0.8888888888888888,
              "#fdca26"
             ],
             [
              1,
              "#f0f921"
             ]
            ],
            "type": "histogram2d"
           }
          ],
          "histogram2dcontour": [
           {
            "colorbar": {
             "outlinewidth": 0,
             "ticks": ""
            },
            "colorscale": [
             [
              0,
              "#0d0887"
             ],
             [
              0.1111111111111111,
              "#46039f"
             ],
             [
              0.2222222222222222,
              "#7201a8"
             ],
             [
              0.3333333333333333,
              "#9c179e"
             ],
             [
              0.4444444444444444,
              "#bd3786"
             ],
             [
              0.5555555555555556,
              "#d8576b"
             ],
             [
              0.6666666666666666,
              "#ed7953"
             ],
             [
              0.7777777777777778,
              "#fb9f3a"
             ],
             [
              0.8888888888888888,
              "#fdca26"
             ],
             [
              1,
              "#f0f921"
             ]
            ],
            "type": "histogram2dcontour"
           }
          ],
          "mesh3d": [
           {
            "colorbar": {
             "outlinewidth": 0,
             "ticks": ""
            },
            "type": "mesh3d"
           }
          ],
          "parcoords": [
           {
            "line": {
             "colorbar": {
              "outlinewidth": 0,
              "ticks": ""
             }
            },
            "type": "parcoords"
           }
          ],
          "pie": [
           {
            "automargin": true,
            "type": "pie"
           }
          ],
          "scatter": [
           {
            "marker": {
             "colorbar": {
              "outlinewidth": 0,
              "ticks": ""
             }
            },
            "type": "scatter"
           }
          ],
          "scatter3d": [
           {
            "line": {
             "colorbar": {
              "outlinewidth": 0,
              "ticks": ""
             }
            },
            "marker": {
             "colorbar": {
              "outlinewidth": 0,
              "ticks": ""
             }
            },
            "type": "scatter3d"
           }
          ],
          "scattercarpet": [
           {
            "marker": {
             "colorbar": {
              "outlinewidth": 0,
              "ticks": ""
             }
            },
            "type": "scattercarpet"
           }
          ],
          "scattergeo": [
           {
            "marker": {
             "colorbar": {
              "outlinewidth": 0,
              "ticks": ""
             }
            },
            "type": "scattergeo"
           }
          ],
          "scattergl": [
           {
            "marker": {
             "colorbar": {
              "outlinewidth": 0,
              "ticks": ""
             }
            },
            "type": "scattergl"
           }
          ],
          "scattermapbox": [
           {
            "marker": {
             "colorbar": {
              "outlinewidth": 0,
              "ticks": ""
             }
            },
            "type": "scattermapbox"
           }
          ],
          "scatterpolar": [
           {
            "marker": {
             "colorbar": {
              "outlinewidth": 0,
              "ticks": ""
             }
            },
            "type": "scatterpolar"
           }
          ],
          "scatterpolargl": [
           {
            "marker": {
             "colorbar": {
              "outlinewidth": 0,
              "ticks": ""
             }
            },
            "type": "scatterpolargl"
           }
          ],
          "scatterternary": [
           {
            "marker": {
             "colorbar": {
              "outlinewidth": 0,
              "ticks": ""
             }
            },
            "type": "scatterternary"
           }
          ],
          "surface": [
           {
            "colorbar": {
             "outlinewidth": 0,
             "ticks": ""
            },
            "colorscale": [
             [
              0,
              "#0d0887"
             ],
             [
              0.1111111111111111,
              "#46039f"
             ],
             [
              0.2222222222222222,
              "#7201a8"
             ],
             [
              0.3333333333333333,
              "#9c179e"
             ],
             [
              0.4444444444444444,
              "#bd3786"
             ],
             [
              0.5555555555555556,
              "#d8576b"
             ],
             [
              0.6666666666666666,
              "#ed7953"
             ],
             [
              0.7777777777777778,
              "#fb9f3a"
             ],
             [
              0.8888888888888888,
              "#fdca26"
             ],
             [
              1,
              "#f0f921"
             ]
            ],
            "type": "surface"
           }
          ],
          "table": [
           {
            "cells": {
             "fill": {
              "color": "#EBF0F8"
             },
             "line": {
              "color": "white"
             }
            },
            "header": {
             "fill": {
              "color": "#C8D4E3"
             },
             "line": {
              "color": "white"
             }
            },
            "type": "table"
           }
          ]
         },
         "layout": {
          "annotationdefaults": {
           "arrowcolor": "#2a3f5f",
           "arrowhead": 0,
           "arrowwidth": 1
          },
          "autotypenumbers": "strict",
          "coloraxis": {
           "colorbar": {
            "outlinewidth": 0,
            "ticks": ""
           }
          },
          "colorscale": {
           "diverging": [
            [
             0,
             "#8e0152"
            ],
            [
             0.1,
             "#c51b7d"
            ],
            [
             0.2,
             "#de77ae"
            ],
            [
             0.3,
             "#f1b6da"
            ],
            [
             0.4,
             "#fde0ef"
            ],
            [
             0.5,
             "#f7f7f7"
            ],
            [
             0.6,
             "#e6f5d0"
            ],
            [
             0.7,
             "#b8e186"
            ],
            [
             0.8,
             "#7fbc41"
            ],
            [
             0.9,
             "#4d9221"
            ],
            [
             1,
             "#276419"
            ]
           ],
           "sequential": [
            [
             0,
             "#0d0887"
            ],
            [
             0.1111111111111111,
             "#46039f"
            ],
            [
             0.2222222222222222,
             "#7201a8"
            ],
            [
             0.3333333333333333,
             "#9c179e"
            ],
            [
             0.4444444444444444,
             "#bd3786"
            ],
            [
             0.5555555555555556,
             "#d8576b"
            ],
            [
             0.6666666666666666,
             "#ed7953"
            ],
            [
             0.7777777777777778,
             "#fb9f3a"
            ],
            [
             0.8888888888888888,
             "#fdca26"
            ],
            [
             1,
             "#f0f921"
            ]
           ],
           "sequentialminus": [
            [
             0,
             "#0d0887"
            ],
            [
             0.1111111111111111,
             "#46039f"
            ],
            [
             0.2222222222222222,
             "#7201a8"
            ],
            [
             0.3333333333333333,
             "#9c179e"
            ],
            [
             0.4444444444444444,
             "#bd3786"
            ],
            [
             0.5555555555555556,
             "#d8576b"
            ],
            [
             0.6666666666666666,
             "#ed7953"
            ],
            [
             0.7777777777777778,
             "#fb9f3a"
            ],
            [
             0.8888888888888888,
             "#fdca26"
            ],
            [
             1,
             "#f0f921"
            ]
           ]
          },
          "colorway": [
           "#636efa",
           "#EF553B",
           "#00cc96",
           "#ab63fa",
           "#FFA15A",
           "#19d3f3",
           "#FF6692",
           "#B6E880",
           "#FF97FF",
           "#FECB52"
          ],
          "font": {
           "color": "#2a3f5f"
          },
          "geo": {
           "bgcolor": "white",
           "lakecolor": "white",
           "landcolor": "#E5ECF6",
           "showlakes": true,
           "showland": true,
           "subunitcolor": "white"
          },
          "hoverlabel": {
           "align": "left"
          },
          "hovermode": "closest",
          "mapbox": {
           "style": "light"
          },
          "paper_bgcolor": "white",
          "plot_bgcolor": "#E5ECF6",
          "polar": {
           "angularaxis": {
            "gridcolor": "white",
            "linecolor": "white",
            "ticks": ""
           },
           "bgcolor": "#E5ECF6",
           "radialaxis": {
            "gridcolor": "white",
            "linecolor": "white",
            "ticks": ""
           }
          },
          "scene": {
           "xaxis": {
            "backgroundcolor": "#E5ECF6",
            "gridcolor": "white",
            "gridwidth": 2,
            "linecolor": "white",
            "showbackground": true,
            "ticks": "",
            "zerolinecolor": "white"
           },
           "yaxis": {
            "backgroundcolor": "#E5ECF6",
            "gridcolor": "white",
            "gridwidth": 2,
            "linecolor": "white",
            "showbackground": true,
            "ticks": "",
            "zerolinecolor": "white"
           },
           "zaxis": {
            "backgroundcolor": "#E5ECF6",
            "gridcolor": "white",
            "gridwidth": 2,
            "linecolor": "white",
            "showbackground": true,
            "ticks": "",
            "zerolinecolor": "white"
           }
          },
          "shapedefaults": {
           "line": {
            "color": "#2a3f5f"
           }
          },
          "ternary": {
           "aaxis": {
            "gridcolor": "white",
            "linecolor": "white",
            "ticks": ""
           },
           "baxis": {
            "gridcolor": "white",
            "linecolor": "white",
            "ticks": ""
           },
           "bgcolor": "#E5ECF6",
           "caxis": {
            "gridcolor": "white",
            "linecolor": "white",
            "ticks": ""
           }
          },
          "title": {
           "x": 0.05
          },
          "xaxis": {
           "automargin": true,
           "gridcolor": "white",
           "linecolor": "white",
           "ticks": "",
           "title": {
            "standoff": 15
           },
           "zerolinecolor": "white",
           "zerolinewidth": 2
          },
          "yaxis": {
           "automargin": true,
           "gridcolor": "white",
           "linecolor": "white",
           "ticks": "",
           "title": {
            "standoff": 15
           },
           "zerolinecolor": "white",
           "zerolinewidth": 2
          }
         }
        },
        "title": {
         "text": "Weight of minimum volatility portfolio"
        }
       }
      }
     },
     "metadata": {},
     "output_type": "display_data"
    }
   ],
   "source": [
    "fig=px.pie(data_frame=min_weight_df,names='ticker',values='weight')\n",
    "fig.update_layout(\n",
    "    title='Weight of minimum volatility portfolio',\n",
    "    font=dict(size=18 ))"
   ]
  },
  {
   "cell_type": "markdown",
   "metadata": {},
   "source": [
    "We see the minimum variance portfolio is overweight in USDT."
   ]
  },
  {
   "cell_type": "code",
   "execution_count": 159,
   "metadata": {},
   "outputs": [
    {
     "name": "stdout",
     "output_type": "stream",
     "text": [
      "the minimum Volatility portfolio annualized portfolio return is 365.40549680985765%\n",
      "the annualized volatility is 25.869301588765317\n"
     ]
    }
   ],
   "source": [
    "#Output the results\n",
    "print(f\"the minimum Volatility portfolio annualized portfolio return is {pd.DataFrame(min_vol_port.reset_index()).returns[0]*100}%\")\n",
    "print(f'the annualized volatility is {pd.DataFrame(min_vol_port.reset_index()).Volatility[0]}')"
   ]
  },
  {
   "cell_type": "code",
   "execution_count": 160,
   "metadata": {},
   "outputs": [
    {
     "data": {
      "application/vnd.plotly.v1+json": {
       "config": {
        "plotlyServerURL": "https://plot.ly"
       },
       "data": [
        {
         "domain": {
          "x": [
           0,
           1
          ],
          "y": [
           0,
           1
          ]
         },
         "hovertemplate": "ticker=%{label}<br>weight=%{value}<extra></extra>",
         "labels": [
          "ETH",
          "BTC",
          "DOGE",
          "USDT",
          "SUSHI"
         ],
         "legendgroup": "",
         "name": "",
         "showlegend": true,
         "type": "pie",
         "values": [
          0.49259455129914287,
          0.018489108522816888,
          0.008379707913187184,
          0.4645626811020617,
          0.01597395116279149
         ]
        }
       ],
       "layout": {
        "font": {
         "size": 18
        },
        "legend": {
         "tracegroupgap": 0
        },
        "margin": {
         "t": 60
        },
        "template": {
         "data": {
          "bar": [
           {
            "error_x": {
             "color": "#2a3f5f"
            },
            "error_y": {
             "color": "#2a3f5f"
            },
            "marker": {
             "line": {
              "color": "#E5ECF6",
              "width": 0.5
             },
             "pattern": {
              "fillmode": "overlay",
              "size": 10,
              "solidity": 0.2
             }
            },
            "type": "bar"
           }
          ],
          "barpolar": [
           {
            "marker": {
             "line": {
              "color": "#E5ECF6",
              "width": 0.5
             },
             "pattern": {
              "fillmode": "overlay",
              "size": 10,
              "solidity": 0.2
             }
            },
            "type": "barpolar"
           }
          ],
          "carpet": [
           {
            "aaxis": {
             "endlinecolor": "#2a3f5f",
             "gridcolor": "white",
             "linecolor": "white",
             "minorgridcolor": "white",
             "startlinecolor": "#2a3f5f"
            },
            "baxis": {
             "endlinecolor": "#2a3f5f",
             "gridcolor": "white",
             "linecolor": "white",
             "minorgridcolor": "white",
             "startlinecolor": "#2a3f5f"
            },
            "type": "carpet"
           }
          ],
          "choropleth": [
           {
            "colorbar": {
             "outlinewidth": 0,
             "ticks": ""
            },
            "type": "choropleth"
           }
          ],
          "contour": [
           {
            "colorbar": {
             "outlinewidth": 0,
             "ticks": ""
            },
            "colorscale": [
             [
              0,
              "#0d0887"
             ],
             [
              0.1111111111111111,
              "#46039f"
             ],
             [
              0.2222222222222222,
              "#7201a8"
             ],
             [
              0.3333333333333333,
              "#9c179e"
             ],
             [
              0.4444444444444444,
              "#bd3786"
             ],
             [
              0.5555555555555556,
              "#d8576b"
             ],
             [
              0.6666666666666666,
              "#ed7953"
             ],
             [
              0.7777777777777778,
              "#fb9f3a"
             ],
             [
              0.8888888888888888,
              "#fdca26"
             ],
             [
              1,
              "#f0f921"
             ]
            ],
            "type": "contour"
           }
          ],
          "contourcarpet": [
           {
            "colorbar": {
             "outlinewidth": 0,
             "ticks": ""
            },
            "type": "contourcarpet"
           }
          ],
          "heatmap": [
           {
            "colorbar": {
             "outlinewidth": 0,
             "ticks": ""
            },
            "colorscale": [
             [
              0,
              "#0d0887"
             ],
             [
              0.1111111111111111,
              "#46039f"
             ],
             [
              0.2222222222222222,
              "#7201a8"
             ],
             [
              0.3333333333333333,
              "#9c179e"
             ],
             [
              0.4444444444444444,
              "#bd3786"
             ],
             [
              0.5555555555555556,
              "#d8576b"
             ],
             [
              0.6666666666666666,
              "#ed7953"
             ],
             [
              0.7777777777777778,
              "#fb9f3a"
             ],
             [
              0.8888888888888888,
              "#fdca26"
             ],
             [
              1,
              "#f0f921"
             ]
            ],
            "type": "heatmap"
           }
          ],
          "heatmapgl": [
           {
            "colorbar": {
             "outlinewidth": 0,
             "ticks": ""
            },
            "colorscale": [
             [
              0,
              "#0d0887"
             ],
             [
              0.1111111111111111,
              "#46039f"
             ],
             [
              0.2222222222222222,
              "#7201a8"
             ],
             [
              0.3333333333333333,
              "#9c179e"
             ],
             [
              0.4444444444444444,
              "#bd3786"
             ],
             [
              0.5555555555555556,
              "#d8576b"
             ],
             [
              0.6666666666666666,
              "#ed7953"
             ],
             [
              0.7777777777777778,
              "#fb9f3a"
             ],
             [
              0.8888888888888888,
              "#fdca26"
             ],
             [
              1,
              "#f0f921"
             ]
            ],
            "type": "heatmapgl"
           }
          ],
          "histogram": [
           {
            "marker": {
             "pattern": {
              "fillmode": "overlay",
              "size": 10,
              "solidity": 0.2
             }
            },
            "type": "histogram"
           }
          ],
          "histogram2d": [
           {
            "colorbar": {
             "outlinewidth": 0,
             "ticks": ""
            },
            "colorscale": [
             [
              0,
              "#0d0887"
             ],
             [
              0.1111111111111111,
              "#46039f"
             ],
             [
              0.2222222222222222,
              "#7201a8"
             ],
             [
              0.3333333333333333,
              "#9c179e"
             ],
             [
              0.4444444444444444,
              "#bd3786"
             ],
             [
              0.5555555555555556,
              "#d8576b"
             ],
             [
              0.6666666666666666,
              "#ed7953"
             ],
             [
              0.7777777777777778,
              "#fb9f3a"
             ],
             [
              0.8888888888888888,
              "#fdca26"
             ],
             [
              1,
              "#f0f921"
             ]
            ],
            "type": "histogram2d"
           }
          ],
          "histogram2dcontour": [
           {
            "colorbar": {
             "outlinewidth": 0,
             "ticks": ""
            },
            "colorscale": [
             [
              0,
              "#0d0887"
             ],
             [
              0.1111111111111111,
              "#46039f"
             ],
             [
              0.2222222222222222,
              "#7201a8"
             ],
             [
              0.3333333333333333,
              "#9c179e"
             ],
             [
              0.4444444444444444,
              "#bd3786"
             ],
             [
              0.5555555555555556,
              "#d8576b"
             ],
             [
              0.6666666666666666,
              "#ed7953"
             ],
             [
              0.7777777777777778,
              "#fb9f3a"
             ],
             [
              0.8888888888888888,
              "#fdca26"
             ],
             [
              1,
              "#f0f921"
             ]
            ],
            "type": "histogram2dcontour"
           }
          ],
          "mesh3d": [
           {
            "colorbar": {
             "outlinewidth": 0,
             "ticks": ""
            },
            "type": "mesh3d"
           }
          ],
          "parcoords": [
           {
            "line": {
             "colorbar": {
              "outlinewidth": 0,
              "ticks": ""
             }
            },
            "type": "parcoords"
           }
          ],
          "pie": [
           {
            "automargin": true,
            "type": "pie"
           }
          ],
          "scatter": [
           {
            "marker": {
             "colorbar": {
              "outlinewidth": 0,
              "ticks": ""
             }
            },
            "type": "scatter"
           }
          ],
          "scatter3d": [
           {
            "line": {
             "colorbar": {
              "outlinewidth": 0,
              "ticks": ""
             }
            },
            "marker": {
             "colorbar": {
              "outlinewidth": 0,
              "ticks": ""
             }
            },
            "type": "scatter3d"
           }
          ],
          "scattercarpet": [
           {
            "marker": {
             "colorbar": {
              "outlinewidth": 0,
              "ticks": ""
             }
            },
            "type": "scattercarpet"
           }
          ],
          "scattergeo": [
           {
            "marker": {
             "colorbar": {
              "outlinewidth": 0,
              "ticks": ""
             }
            },
            "type": "scattergeo"
           }
          ],
          "scattergl": [
           {
            "marker": {
             "colorbar": {
              "outlinewidth": 0,
              "ticks": ""
             }
            },
            "type": "scattergl"
           }
          ],
          "scattermapbox": [
           {
            "marker": {
             "colorbar": {
              "outlinewidth": 0,
              "ticks": ""
             }
            },
            "type": "scattermapbox"
           }
          ],
          "scatterpolar": [
           {
            "marker": {
             "colorbar": {
              "outlinewidth": 0,
              "ticks": ""
             }
            },
            "type": "scatterpolar"
           }
          ],
          "scatterpolargl": [
           {
            "marker": {
             "colorbar": {
              "outlinewidth": 0,
              "ticks": ""
             }
            },
            "type": "scatterpolargl"
           }
          ],
          "scatterternary": [
           {
            "marker": {
             "colorbar": {
              "outlinewidth": 0,
              "ticks": ""
             }
            },
            "type": "scatterternary"
           }
          ],
          "surface": [
           {
            "colorbar": {
             "outlinewidth": 0,
             "ticks": ""
            },
            "colorscale": [
             [
              0,
              "#0d0887"
             ],
             [
              0.1111111111111111,
              "#46039f"
             ],
             [
              0.2222222222222222,
              "#7201a8"
             ],
             [
              0.3333333333333333,
              "#9c179e"
             ],
             [
              0.4444444444444444,
              "#bd3786"
             ],
             [
              0.5555555555555556,
              "#d8576b"
             ],
             [
              0.6666666666666666,
              "#ed7953"
             ],
             [
              0.7777777777777778,
              "#fb9f3a"
             ],
             [
              0.8888888888888888,
              "#fdca26"
             ],
             [
              1,
              "#f0f921"
             ]
            ],
            "type": "surface"
           }
          ],
          "table": [
           {
            "cells": {
             "fill": {
              "color": "#EBF0F8"
             },
             "line": {
              "color": "white"
             }
            },
            "header": {
             "fill": {
              "color": "#C8D4E3"
             },
             "line": {
              "color": "white"
             }
            },
            "type": "table"
           }
          ]
         },
         "layout": {
          "annotationdefaults": {
           "arrowcolor": "#2a3f5f",
           "arrowhead": 0,
           "arrowwidth": 1
          },
          "autotypenumbers": "strict",
          "coloraxis": {
           "colorbar": {
            "outlinewidth": 0,
            "ticks": ""
           }
          },
          "colorscale": {
           "diverging": [
            [
             0,
             "#8e0152"
            ],
            [
             0.1,
             "#c51b7d"
            ],
            [
             0.2,
             "#de77ae"
            ],
            [
             0.3,
             "#f1b6da"
            ],
            [
             0.4,
             "#fde0ef"
            ],
            [
             0.5,
             "#f7f7f7"
            ],
            [
             0.6,
             "#e6f5d0"
            ],
            [
             0.7,
             "#b8e186"
            ],
            [
             0.8,
             "#7fbc41"
            ],
            [
             0.9,
             "#4d9221"
            ],
            [
             1,
             "#276419"
            ]
           ],
           "sequential": [
            [
             0,
             "#0d0887"
            ],
            [
             0.1111111111111111,
             "#46039f"
            ],
            [
             0.2222222222222222,
             "#7201a8"
            ],
            [
             0.3333333333333333,
             "#9c179e"
            ],
            [
             0.4444444444444444,
             "#bd3786"
            ],
            [
             0.5555555555555556,
             "#d8576b"
            ],
            [
             0.6666666666666666,
             "#ed7953"
            ],
            [
             0.7777777777777778,
             "#fb9f3a"
            ],
            [
             0.8888888888888888,
             "#fdca26"
            ],
            [
             1,
             "#f0f921"
            ]
           ],
           "sequentialminus": [
            [
             0,
             "#0d0887"
            ],
            [
             0.1111111111111111,
             "#46039f"
            ],
            [
             0.2222222222222222,
             "#7201a8"
            ],
            [
             0.3333333333333333,
             "#9c179e"
            ],
            [
             0.4444444444444444,
             "#bd3786"
            ],
            [
             0.5555555555555556,
             "#d8576b"
            ],
            [
             0.6666666666666666,
             "#ed7953"
            ],
            [
             0.7777777777777778,
             "#fb9f3a"
            ],
            [
             0.8888888888888888,
             "#fdca26"
            ],
            [
             1,
             "#f0f921"
            ]
           ]
          },
          "colorway": [
           "#636efa",
           "#EF553B",
           "#00cc96",
           "#ab63fa",
           "#FFA15A",
           "#19d3f3",
           "#FF6692",
           "#B6E880",
           "#FF97FF",
           "#FECB52"
          ],
          "font": {
           "color": "#2a3f5f"
          },
          "geo": {
           "bgcolor": "white",
           "lakecolor": "white",
           "landcolor": "#E5ECF6",
           "showlakes": true,
           "showland": true,
           "subunitcolor": "white"
          },
          "hoverlabel": {
           "align": "left"
          },
          "hovermode": "closest",
          "mapbox": {
           "style": "light"
          },
          "paper_bgcolor": "white",
          "plot_bgcolor": "#E5ECF6",
          "polar": {
           "angularaxis": {
            "gridcolor": "white",
            "linecolor": "white",
            "ticks": ""
           },
           "bgcolor": "#E5ECF6",
           "radialaxis": {
            "gridcolor": "white",
            "linecolor": "white",
            "ticks": ""
           }
          },
          "scene": {
           "xaxis": {
            "backgroundcolor": "#E5ECF6",
            "gridcolor": "white",
            "gridwidth": 2,
            "linecolor": "white",
            "showbackground": true,
            "ticks": "",
            "zerolinecolor": "white"
           },
           "yaxis": {
            "backgroundcolor": "#E5ECF6",
            "gridcolor": "white",
            "gridwidth": 2,
            "linecolor": "white",
            "showbackground": true,
            "ticks": "",
            "zerolinecolor": "white"
           },
           "zaxis": {
            "backgroundcolor": "#E5ECF6",
            "gridcolor": "white",
            "gridwidth": 2,
            "linecolor": "white",
            "showbackground": true,
            "ticks": "",
            "zerolinecolor": "white"
           }
          },
          "shapedefaults": {
           "line": {
            "color": "#2a3f5f"
           }
          },
          "ternary": {
           "aaxis": {
            "gridcolor": "white",
            "linecolor": "white",
            "ticks": ""
           },
           "baxis": {
            "gridcolor": "white",
            "linecolor": "white",
            "ticks": ""
           },
           "bgcolor": "#E5ECF6",
           "caxis": {
            "gridcolor": "white",
            "linecolor": "white",
            "ticks": ""
           }
          },
          "title": {
           "x": 0.05
          },
          "xaxis": {
           "automargin": true,
           "gridcolor": "white",
           "linecolor": "white",
           "ticks": "",
           "title": {
            "standoff": 15
           },
           "zerolinecolor": "white",
           "zerolinewidth": 2
          },
          "yaxis": {
           "automargin": true,
           "gridcolor": "white",
           "linecolor": "white",
           "ticks": "",
           "title": {
            "standoff": 15
           },
           "zerolinecolor": "white",
           "zerolinewidth": 2
          }
         }
        },
        "title": {
         "text": "Weight of portfolio with highest sharpe ratio"
        }
       }
      }
     },
     "metadata": {},
     "output_type": "display_data"
    }
   ],
   "source": [
    "#Plotting the weight of portfolio with the highest sharpe ratio\n",
    "fig=px.pie(data_frame=optimal_weight_df,names='ticker',values='weight')\n",
    "fig.update_layout(\n",
    "    title='Weight of portfolio with highest sharpe ratio',\n",
    "    font=dict(size=18 ))"
   ]
  },
  {
   "cell_type": "code",
   "execution_count": 161,
   "metadata": {},
   "outputs": [
    {
     "name": "stdout",
     "output_type": "stream",
     "text": [
      "the minimum Volatility portfolio annualized portfolio return is 543.7651249744122%\n",
      "the annualized volatility is 36.432047588531134\n"
     ]
    }
   ],
   "source": [
    "print(f\"the minimum Volatility portfolio annualized portfolio return is {pd.DataFrame(optimal_sharpe_portfolio.reset_index()).returns[0]*100}%\")\n",
    "print(f'the annualized volatility is {pd.DataFrame(optimal_sharpe_portfolio.reset_index()).Volatility[0]}')"
   ]
  },
  {
   "cell_type": "code",
   "execution_count": null,
   "metadata": {},
   "outputs": [],
   "source": [
    "p1=portfolio.hvplot.scatter(x='Volatility',y='returns',xlabel='Volatility',ylabel='Expected return',legend='top',height=500,width=1000,title='Plot of all portfolios')\n",
    "p2=optimal_sharpe_portfolio.hvplot.scatter(x='Volatility',y='returns',marker='o', alpha=.9,)\n",
    "p3=min_vol_port.hvplot.scatter(x='Volatility',y='returns')\n",
    "#p4=min_vol_port.hvplot.labels(x='Volatility',y='returns',text='minimum variance')\n",
    "p1*p2*p3\n"
   ]
  }
 ],
 "metadata": {
  "interpreter": {
   "hash": "f829a78f90c1ad1b9bb00f638486870d0e6df553c65735c7a45f0f8f2b114ae2"
  },
  "kernelspec": {
   "display_name": "Python 3.7.10 64-bit ('pyvizenv': conda)",
   "name": "python3"
  },
  "language_info": {
   "codemirror_mode": {
    "name": "ipython",
    "version": 3
   },
   "file_extension": ".py",
   "mimetype": "text/x-python",
   "name": "python",
   "nbconvert_exporter": "python",
   "pygments_lexer": "ipython3",
   "version": "3.7.10"
  }
 },
 "nbformat": 4,
 "nbformat_minor": 5
}
