{
 "cells": [
  {
   "cell_type": "code",
   "execution_count": 613,
   "metadata": {},
   "outputs": [],
   "source": [
    "# imports\n",
    "\n",
    "import panel as pn\n",
    "pn.extension('plotly')\n",
    "import plotly.express as px\n",
    "import pandas as pd\n",
    "import hvplot.pandas\n",
    "import holoviews as hv\n",
    "import matplotlib.pyplot as plt\n",
    "import numpy as np\n",
    "import os\n",
    "from pathlib import Path\n",
    "from dotenv import load_dotenv\n",
    "#from data_collection import get_crypo_from_API\n",
    "import plotly.graph_objects as go\n",
    "\n",
    "import warnings\n",
    "warnings.filterwarnings('ignore')\n",
    "pd.options.display.float_format = '{:.2f}'.format"
   ]
  },
  {
   "cell_type": "markdown",
   "metadata": {},
   "source": [
    "### **MY FIRST CRYTPTO PORTFOLIO**\n",
    "---\n",
    "The current project uses historical data to provide the portfolio of crypto assets with best returns for a new investor"
   ]
  },
  {
   "cell_type": "code",
   "execution_count": 442,
   "metadata": {},
   "outputs": [
    {
     "data": {
      "text/html": [
       "<div>\n",
       "<style scoped>\n",
       "    .dataframe tbody tr th:only-of-type {\n",
       "        vertical-align: middle;\n",
       "    }\n",
       "\n",
       "    .dataframe tbody tr th {\n",
       "        vertical-align: top;\n",
       "    }\n",
       "\n",
       "    .dataframe thead th {\n",
       "        text-align: right;\n",
       "    }\n",
       "</style>\n",
       "<table border=\"1\" class=\"dataframe\">\n",
       "  <thead>\n",
       "    <tr style=\"text-align: right;\">\n",
       "      <th></th>\n",
       "      <th>Date</th>\n",
       "      <th>Volume</th>\n",
       "      <th>ticker</th>\n",
       "    </tr>\n",
       "  </thead>\n",
       "  <tbody>\n",
       "    <tr>\n",
       "      <th>0</th>\n",
       "      <td>2020-10-06</td>\n",
       "      <td>11497841885.00</td>\n",
       "      <td>ETH</td>\n",
       "    </tr>\n",
       "    <tr>\n",
       "      <th>1</th>\n",
       "      <td>2020-10-07</td>\n",
       "      <td>10537119715.00</td>\n",
       "      <td>ETH</td>\n",
       "    </tr>\n",
       "    <tr>\n",
       "      <th>2</th>\n",
       "      <td>2020-10-08</td>\n",
       "      <td>11511016796.00</td>\n",
       "      <td>ETH</td>\n",
       "    </tr>\n",
       "    <tr>\n",
       "      <th>3</th>\n",
       "      <td>2020-10-10</td>\n",
       "      <td>13618484324.00</td>\n",
       "      <td>ETH</td>\n",
       "    </tr>\n",
       "    <tr>\n",
       "      <th>4</th>\n",
       "      <td>2020-10-11</td>\n",
       "      <td>12584512533.00</td>\n",
       "      <td>ETH</td>\n",
       "    </tr>\n",
       "  </tbody>\n",
       "</table>\n",
       "</div>"
      ],
      "text/plain": [
       "         Date         Volume ticker\n",
       "0  2020-10-06 11497841885.00    ETH\n",
       "1  2020-10-07 10537119715.00    ETH\n",
       "2  2020-10-08 11511016796.00    ETH\n",
       "3  2020-10-10 13618484324.00    ETH\n",
       "4  2020-10-11 12584512533.00    ETH"
      ]
     },
     "execution_count": 442,
     "metadata": {},
     "output_type": "execute_result"
    }
   ],
   "source": [
    "#Read in the crypto data into a Pandas DataFrame\n",
    "\n",
    "Euthereum_data = pd.read_csv(Path(\"Resources/ETH-USD.csv\"), index_col='Date')\n",
    "Doge_data = pd.read_csv(Path(\"Resources/DOGE-USD.csv\"), index_col='Date')\n",
    "Bitcoin_data = pd.read_csv(Path(\"Resources/BTC-USD.csv\"), index_col='Date')\n",
    "Sushi_data = pd.read_csv(Path(\"Resources/SUSHI-USD.csv\"), index_col='Date')\n",
    "Tether_data = pd.read_csv(Path(\"Resources/USDT-USD.csv\"), index_col='Date')\n",
    "\n",
    "#create ticker data\n",
    "Euthereum_data['ticker']='ETH'\n",
    "Doge_data['ticker']='DOGE'\n",
    "Bitcoin_data['ticker']='BTC'\n",
    "Sushi_data['ticker']='SUSHI'\n",
    "Tether_data['ticker']='USDT'\n",
    "\n",
    "#concatenate files into a single volume data frame using date as an index in order to plot volume data\n",
    "volume_data=pd.concat([Euthereum_data,Bitcoin_data,Doge_data,Sushi_data,Tether_data],axis='rows').loc[:,['Volume','ticker']].dropna()\n",
    "volume_data.reset_index(inplace=True)\n",
    "volume_data.head()"
   ]
  },
  {
   "cell_type": "markdown",
   "metadata": {},
   "source": [
    "## Data Cleaning\n",
    "\n"
   ]
  },
  {
   "cell_type": "code",
   "execution_count": 443,
   "metadata": {},
   "outputs": [
    {
     "data": {
      "text/html": [
       "<div>\n",
       "<style scoped>\n",
       "    .dataframe tbody tr th:only-of-type {\n",
       "        vertical-align: middle;\n",
       "    }\n",
       "\n",
       "    .dataframe tbody tr th {\n",
       "        vertical-align: top;\n",
       "    }\n",
       "\n",
       "    .dataframe thead th {\n",
       "        text-align: right;\n",
       "    }\n",
       "</style>\n",
       "<table border=\"1\" class=\"dataframe\">\n",
       "  <thead>\n",
       "    <tr style=\"text-align: right;\">\n",
       "      <th></th>\n",
       "      <th>USDT Open</th>\n",
       "      <th>USDT High</th>\n",
       "      <th>USDT Low</th>\n",
       "      <th>USDT Close</th>\n",
       "      <th>USDT Adj Close</th>\n",
       "      <th>USDT Volume</th>\n",
       "      <th>ticker</th>\n",
       "    </tr>\n",
       "    <tr>\n",
       "      <th>Date</th>\n",
       "      <th></th>\n",
       "      <th></th>\n",
       "      <th></th>\n",
       "      <th></th>\n",
       "      <th></th>\n",
       "      <th></th>\n",
       "      <th></th>\n",
       "    </tr>\n",
       "  </thead>\n",
       "  <tbody>\n",
       "    <tr>\n",
       "      <th>2020-10-06</th>\n",
       "      <td>1.00</td>\n",
       "      <td>1.01</td>\n",
       "      <td>1.00</td>\n",
       "      <td>1.00</td>\n",
       "      <td>1.00</td>\n",
       "      <td>36772723041.00</td>\n",
       "      <td>USDT</td>\n",
       "    </tr>\n",
       "    <tr>\n",
       "      <th>2020-10-07</th>\n",
       "      <td>1.00</td>\n",
       "      <td>1.01</td>\n",
       "      <td>1.00</td>\n",
       "      <td>1.00</td>\n",
       "      <td>1.00</td>\n",
       "      <td>28509871425.00</td>\n",
       "      <td>USDT</td>\n",
       "    </tr>\n",
       "    <tr>\n",
       "      <th>2020-10-08</th>\n",
       "      <td>1.00</td>\n",
       "      <td>1.01</td>\n",
       "      <td>0.99</td>\n",
       "      <td>1.00</td>\n",
       "      <td>1.00</td>\n",
       "      <td>33458865269.00</td>\n",
       "      <td>USDT</td>\n",
       "    </tr>\n",
       "    <tr>\n",
       "      <th>2020-10-09</th>\n",
       "      <td>NaN</td>\n",
       "      <td>NaN</td>\n",
       "      <td>NaN</td>\n",
       "      <td>NaN</td>\n",
       "      <td>NaN</td>\n",
       "      <td>NaN</td>\n",
       "      <td>USDT</td>\n",
       "    </tr>\n",
       "    <tr>\n",
       "      <th>2020-10-10</th>\n",
       "      <td>1.00</td>\n",
       "      <td>1.00</td>\n",
       "      <td>1.00</td>\n",
       "      <td>1.00</td>\n",
       "      <td>1.00</td>\n",
       "      <td>41298643279.00</td>\n",
       "      <td>USDT</td>\n",
       "    </tr>\n",
       "  </tbody>\n",
       "</table>\n",
       "</div>"
      ],
      "text/plain": [
       "            USDT Open  USDT High  USDT Low  USDT Close  USDT Adj Close  \\\n",
       "Date                                                                     \n",
       "2020-10-06       1.00       1.01      1.00        1.00            1.00   \n",
       "2020-10-07       1.00       1.01      1.00        1.00            1.00   \n",
       "2020-10-08       1.00       1.01      0.99        1.00            1.00   \n",
       "2020-10-09        NaN        NaN       NaN         NaN             NaN   \n",
       "2020-10-10       1.00       1.00      1.00        1.00            1.00   \n",
       "\n",
       "              USDT Volume ticker  \n",
       "Date                              \n",
       "2020-10-06 36772723041.00   USDT  \n",
       "2020-10-07 28509871425.00   USDT  \n",
       "2020-10-08 33458865269.00   USDT  \n",
       "2020-10-09            NaN   USDT  \n",
       "2020-10-10 41298643279.00   USDT  "
      ]
     },
     "execution_count": 443,
     "metadata": {},
     "output_type": "execute_result"
    }
   ],
   "source": [
    "Euthereum_data.columns = ['ETH Open', 'ETH High', 'ETH Low', 'ETH Close', 'ETH Adj Close', 'ETH Volume','ticker']\n",
    "Doge_data.columns = ['DOGE Open', 'DOGE High', 'DOGE Low', 'DOGE Close', 'DOGE Adj Close', 'DOGE Volume','ticker']\n",
    "Bitcoin_data.columns = ['BTC Open', 'BTC High', 'BTC Low', 'BTC Close', 'BTC Adj Close', 'BTC Volume','ticker'] \n",
    "Sushi_data.columns = ['SUSHI Open', 'SUSHI High', 'SUSHI Low', 'SUSHI Close', 'SUSHI Adj Close', 'SUSHI Volume','ticker'] \n",
    "Tether_data.columns = ['USDT Open', 'USDT High', 'USDT Low', 'USDT Close', 'USDT Adj Close', 'USDT Volume','ticker'] \n",
    "Tether_data.head()"
   ]
  },
  {
   "cell_type": "code",
   "execution_count": 444,
   "metadata": {},
   "outputs": [
    {
     "data": {
      "text/html": [
       "<div>\n",
       "<style scoped>\n",
       "    .dataframe tbody tr th:only-of-type {\n",
       "        vertical-align: middle;\n",
       "    }\n",
       "\n",
       "    .dataframe tbody tr th {\n",
       "        vertical-align: top;\n",
       "    }\n",
       "\n",
       "    .dataframe thead th {\n",
       "        text-align: right;\n",
       "    }\n",
       "</style>\n",
       "<table border=\"1\" class=\"dataframe\">\n",
       "  <thead>\n",
       "    <tr style=\"text-align: right;\">\n",
       "      <th></th>\n",
       "      <th>Date</th>\n",
       "      <th>Total Traded</th>\n",
       "      <th>ticker</th>\n",
       "    </tr>\n",
       "  </thead>\n",
       "  <tbody>\n",
       "    <tr>\n",
       "      <th>0</th>\n",
       "      <td>2020-10-06</td>\n",
       "      <td>4071820280429.81</td>\n",
       "      <td>ETH</td>\n",
       "    </tr>\n",
       "    <tr>\n",
       "      <th>1</th>\n",
       "      <td>2020-10-07</td>\n",
       "      <td>3594123813264.87</td>\n",
       "      <td>ETH</td>\n",
       "    </tr>\n",
       "    <tr>\n",
       "      <th>2</th>\n",
       "      <td>2020-10-08</td>\n",
       "      <td>3937860957008.13</td>\n",
       "      <td>ETH</td>\n",
       "    </tr>\n",
       "    <tr>\n",
       "      <th>3</th>\n",
       "      <td>2020-10-10</td>\n",
       "      <td>4976227755171.94</td>\n",
       "      <td>ETH</td>\n",
       "    </tr>\n",
       "    <tr>\n",
       "      <th>4</th>\n",
       "      <td>2020-10-11</td>\n",
       "      <td>4667953551688.09</td>\n",
       "      <td>ETH</td>\n",
       "    </tr>\n",
       "  </tbody>\n",
       "</table>\n",
       "</div>"
      ],
      "text/plain": [
       "         Date     Total Traded ticker\n",
       "0  2020-10-06 4071820280429.81    ETH\n",
       "1  2020-10-07 3594123813264.87    ETH\n",
       "2  2020-10-08 3937860957008.13    ETH\n",
       "3  2020-10-10 4976227755171.94    ETH\n",
       "4  2020-10-11 4667953551688.09    ETH"
      ]
     },
     "execution_count": 444,
     "metadata": {},
     "output_type": "execute_result"
    }
   ],
   "source": [
    "Bitcoin_data['Total Traded'] = Bitcoin_data['BTC Open'] * Bitcoin_data['BTC Volume']\n",
    "Bitcoin_data.dropna(inplace=True)\n",
    "#Bitcoin_data.drop(columns='ticker', inplace=True)\n",
    " \n",
    "Euthereum_data['Total Traded'] = Euthereum_data['ETH Open'] * Euthereum_data['ETH Volume']\n",
    "Euthereum_data.dropna(inplace=True)\n",
    "#Euthereum_data.drop(columns='ticker', inplace=True)\n",
    " \n",
    "Doge_data['Total Traded'] = Doge_data['DOGE Open'] * Doge_data['DOGE Volume']\n",
    "Doge_data.dropna(inplace=True)\n",
    "#Doge_data.drop(columns='ticker', inplace=True)\n",
    " \n",
    "Sushi_data['Total Traded'] = Sushi_data['SUSHI Open'] * Sushi_data['SUSHI Volume']\n",
    "Sushi_data.dropna(inplace=True)\n",
    "#Sushi_data.drop(columns='ticker', inplace=True)\n",
    " \n",
    "Tether_data['Total Traded'] = Tether_data['USDT Open'] * Tether_data['USDT Volume']\n",
    "Tether_data.dropna(inplace=True)\n",
    "#Tether_data.drop(columns='ticker', inplace=True)\n",
    "\n",
    "Trade_data=pd.concat([Euthereum_data,Bitcoin_data,Doge_data,Sushi_data,Tether_data],axis='rows').loc[:,['Total Traded','ticker']].dropna()\n",
    "Trade_data.reset_index(inplace=True)\n",
    "Trade_data.head()\n",
    "\n",
    "\n",
    "\n"
   ]
  },
  {
   "cell_type": "code",
   "execution_count": 446,
   "metadata": {},
   "outputs": [
    {
     "data": {
      "text/html": [
       "<div>\n",
       "<style scoped>\n",
       "    .dataframe tbody tr th:only-of-type {\n",
       "        vertical-align: middle;\n",
       "    }\n",
       "\n",
       "    .dataframe tbody tr th {\n",
       "        vertical-align: top;\n",
       "    }\n",
       "\n",
       "    .dataframe thead th {\n",
       "        text-align: right;\n",
       "    }\n",
       "</style>\n",
       "<table border=\"1\" class=\"dataframe\">\n",
       "  <thead>\n",
       "    <tr style=\"text-align: right;\">\n",
       "      <th></th>\n",
       "      <th>ETH Open</th>\n",
       "      <th>ETH High</th>\n",
       "      <th>ETH Low</th>\n",
       "      <th>ETH Close</th>\n",
       "      <th>ETH Adj Close</th>\n",
       "      <th>ETH Volume</th>\n",
       "      <th>Total Traded</th>\n",
       "      <th>DOGE Open</th>\n",
       "      <th>DOGE High</th>\n",
       "      <th>DOGE Low</th>\n",
       "      <th>...</th>\n",
       "      <th>SUSHI Adj Close</th>\n",
       "      <th>SUSHI Volume</th>\n",
       "      <th>Total Traded</th>\n",
       "      <th>USDT Open</th>\n",
       "      <th>USDT High</th>\n",
       "      <th>USDT Low</th>\n",
       "      <th>USDT Close</th>\n",
       "      <th>USDT Adj Close</th>\n",
       "      <th>USDT Volume</th>\n",
       "      <th>Total Traded</th>\n",
       "    </tr>\n",
       "  </thead>\n",
       "  <tbody>\n",
       "    <tr>\n",
       "      <th>count</th>\n",
       "      <td>208.00</td>\n",
       "      <td>208.00</td>\n",
       "      <td>208.00</td>\n",
       "      <td>208.00</td>\n",
       "      <td>208.00</td>\n",
       "      <td>208.00</td>\n",
       "      <td>208.00</td>\n",
       "      <td>208.00</td>\n",
       "      <td>208.00</td>\n",
       "      <td>208.00</td>\n",
       "      <td>...</td>\n",
       "      <td>208.00</td>\n",
       "      <td>208.00</td>\n",
       "      <td>208.00</td>\n",
       "      <td>208.00</td>\n",
       "      <td>208.00</td>\n",
       "      <td>208.00</td>\n",
       "      <td>208.00</td>\n",
       "      <td>208.00</td>\n",
       "      <td>208.00</td>\n",
       "      <td>208.00</td>\n",
       "    </tr>\n",
       "    <tr>\n",
       "      <th>mean</th>\n",
       "      <td>2522.32</td>\n",
       "      <td>2624.88</td>\n",
       "      <td>2408.89</td>\n",
       "      <td>2530.86</td>\n",
       "      <td>2530.86</td>\n",
       "      <td>27096181918.61</td>\n",
       "      <td>72821726673370.72</td>\n",
       "      <td>0.25</td>\n",
       "      <td>0.27</td>\n",
       "      <td>0.23</td>\n",
       "      <td>...</td>\n",
       "      <td>10.38</td>\n",
       "      <td>432428806.75</td>\n",
       "      <td>5423760310.71</td>\n",
       "      <td>1.00</td>\n",
       "      <td>1.00</td>\n",
       "      <td>1.00</td>\n",
       "      <td>1.00</td>\n",
       "      <td>1.00</td>\n",
       "      <td>88724639606.41</td>\n",
       "      <td>88780547566.95</td>\n",
       "    </tr>\n",
       "    <tr>\n",
       "      <th>std</th>\n",
       "      <td>886.92</td>\n",
       "      <td>922.39</td>\n",
       "      <td>847.48</td>\n",
       "      <td>888.56</td>\n",
       "      <td>888.56</td>\n",
       "      <td>12873118179.04</td>\n",
       "      <td>49646680511046.30</td>\n",
       "      <td>0.13</td>\n",
       "      <td>0.15</td>\n",
       "      <td>0.12</td>\n",
       "      <td>...</td>\n",
       "      <td>4.19</td>\n",
       "      <td>374480771.94</td>\n",
       "      <td>6394152226.31</td>\n",
       "      <td>0.00</td>\n",
       "      <td>0.00</td>\n",
       "      <td>0.00</td>\n",
       "      <td>0.00</td>\n",
       "      <td>0.00</td>\n",
       "      <td>46717738673.50</td>\n",
       "      <td>46775105667.76</td>\n",
       "    </tr>\n",
       "    <tr>\n",
       "      <th>min</th>\n",
       "      <td>341.09</td>\n",
       "      <td>342.59</td>\n",
       "      <td>335.53</td>\n",
       "      <td>341.02</td>\n",
       "      <td>341.02</td>\n",
       "      <td>10537119715.00</td>\n",
       "      <td>3594123813264.87</td>\n",
       "      <td>0.00</td>\n",
       "      <td>0.00</td>\n",
       "      <td>0.00</td>\n",
       "      <td>...</td>\n",
       "      <td>0.62</td>\n",
       "      <td>14098346.00</td>\n",
       "      <td>9360921.09</td>\n",
       "      <td>1.00</td>\n",
       "      <td>1.00</td>\n",
       "      <td>0.99</td>\n",
       "      <td>1.00</td>\n",
       "      <td>1.00</td>\n",
       "      <td>28509871425.00</td>\n",
       "      <td>28557882048.48</td>\n",
       "    </tr>\n",
       "    <tr>\n",
       "      <th>25%</th>\n",
       "      <td>2133.11</td>\n",
       "      <td>2193.36</td>\n",
       "      <td>2054.14</td>\n",
       "      <td>2138.50</td>\n",
       "      <td>2138.50</td>\n",
       "      <td>18307095839.00</td>\n",
       "      <td>46826130741887.48</td>\n",
       "      <td>0.20</td>\n",
       "      <td>0.21</td>\n",
       "      <td>0.19</td>\n",
       "      <td>...</td>\n",
       "      <td>8.15</td>\n",
       "      <td>219492233.75</td>\n",
       "      <td>1821059591.50</td>\n",
       "      <td>1.00</td>\n",
       "      <td>1.00</td>\n",
       "      <td>1.00</td>\n",
       "      <td>1.00</td>\n",
       "      <td>1.00</td>\n",
       "      <td>55433675337.25</td>\n",
       "      <td>55427668106.69</td>\n",
       "    </tr>\n",
       "    <tr>\n",
       "      <th>50%</th>\n",
       "      <td>2532.25</td>\n",
       "      <td>2653.41</td>\n",
       "      <td>2402.14</td>\n",
       "      <td>2537.05</td>\n",
       "      <td>2537.05</td>\n",
       "      <td>23805484449.50</td>\n",
       "      <td>63911158421306.05</td>\n",
       "      <td>0.25</td>\n",
       "      <td>0.26</td>\n",
       "      <td>0.24</td>\n",
       "      <td>...</td>\n",
       "      <td>10.82</td>\n",
       "      <td>341564249.00</td>\n",
       "      <td>3735238341.65</td>\n",
       "      <td>1.00</td>\n",
       "      <td>1.00</td>\n",
       "      <td>1.00</td>\n",
       "      <td>1.00</td>\n",
       "      <td>1.00</td>\n",
       "      <td>77363753748.50</td>\n",
       "      <td>77391295647.71</td>\n",
       "    </tr>\n",
       "    <tr>\n",
       "      <th>75%</th>\n",
       "      <td>3213.33</td>\n",
       "      <td>3300.52</td>\n",
       "      <td>3069.89</td>\n",
       "      <td>3224.51</td>\n",
       "      <td>3224.51</td>\n",
       "      <td>31886485436.00</td>\n",
       "      <td>83081851811515.16</td>\n",
       "      <td>0.32</td>\n",
       "      <td>0.33</td>\n",
       "      <td>0.30</td>\n",
       "      <td>...</td>\n",
       "      <td>13.23</td>\n",
       "      <td>523265027.00</td>\n",
       "      <td>6599899353.45</td>\n",
       "      <td>1.00</td>\n",
       "      <td>1.00</td>\n",
       "      <td>1.00</td>\n",
       "      <td>1.00</td>\n",
       "      <td>1.00</td>\n",
       "      <td>100285985201.75</td>\n",
       "      <td>100372615373.91</td>\n",
       "    </tr>\n",
       "    <tr>\n",
       "      <th>max</th>\n",
       "      <td>4174.64</td>\n",
       "      <td>4362.35</td>\n",
       "      <td>3868.99</td>\n",
       "      <td>4168.70</td>\n",
       "      <td>4168.70</td>\n",
       "      <td>84482912776.00</td>\n",
       "      <td>300180370644222.88</td>\n",
       "      <td>0.69</td>\n",
       "      <td>0.74</td>\n",
       "      <td>0.61</td>\n",
       "      <td>...</td>\n",
       "      <td>21.44</td>\n",
       "      <td>2720807434.00</td>\n",
       "      <td>58517910089.55</td>\n",
       "      <td>1.01</td>\n",
       "      <td>1.03</td>\n",
       "      <td>1.00</td>\n",
       "      <td>1.01</td>\n",
       "      <td>1.01</td>\n",
       "      <td>279067455600.00</td>\n",
       "      <td>279240477422.47</td>\n",
       "    </tr>\n",
       "  </tbody>\n",
       "</table>\n",
       "<p>8 rows × 35 columns</p>\n",
       "</div>"
      ],
      "text/plain": [
       "       ETH Open  ETH High  ETH Low  ETH Close  ETH Adj Close     ETH Volume  \\\n",
       "count    208.00    208.00   208.00     208.00         208.00         208.00   \n",
       "mean    2522.32   2624.88  2408.89    2530.86        2530.86 27096181918.61   \n",
       "std      886.92    922.39   847.48     888.56         888.56 12873118179.04   \n",
       "min      341.09    342.59   335.53     341.02         341.02 10537119715.00   \n",
       "25%     2133.11   2193.36  2054.14    2138.50        2138.50 18307095839.00   \n",
       "50%     2532.25   2653.41  2402.14    2537.05        2537.05 23805484449.50   \n",
       "75%     3213.33   3300.52  3069.89    3224.51        3224.51 31886485436.00   \n",
       "max     4174.64   4362.35  3868.99    4168.70        4168.70 84482912776.00   \n",
       "\n",
       "            Total Traded  DOGE Open  DOGE High  DOGE Low  ...  \\\n",
       "count             208.00     208.00     208.00    208.00  ...   \n",
       "mean   72821726673370.72       0.25       0.27      0.23  ...   \n",
       "std    49646680511046.30       0.13       0.15      0.12  ...   \n",
       "min     3594123813264.87       0.00       0.00      0.00  ...   \n",
       "25%    46826130741887.48       0.20       0.21      0.19  ...   \n",
       "50%    63911158421306.05       0.25       0.26      0.24  ...   \n",
       "75%    83081851811515.16       0.32       0.33      0.30  ...   \n",
       "max   300180370644222.88       0.69       0.74      0.61  ...   \n",
       "\n",
       "       SUSHI Adj Close  SUSHI Volume   Total Traded  USDT Open  USDT High  \\\n",
       "count           208.00        208.00         208.00     208.00     208.00   \n",
       "mean             10.38  432428806.75  5423760310.71       1.00       1.00   \n",
       "std               4.19  374480771.94  6394152226.31       0.00       0.00   \n",
       "min               0.62   14098346.00     9360921.09       1.00       1.00   \n",
       "25%               8.15  219492233.75  1821059591.50       1.00       1.00   \n",
       "50%              10.82  341564249.00  3735238341.65       1.00       1.00   \n",
       "75%              13.23  523265027.00  6599899353.45       1.00       1.00   \n",
       "max              21.44 2720807434.00 58517910089.55       1.01       1.03   \n",
       "\n",
       "       USDT Low  USDT Close  USDT Adj Close     USDT Volume    Total Traded  \n",
       "count    208.00      208.00          208.00          208.00          208.00  \n",
       "mean       1.00        1.00            1.00  88724639606.41  88780547566.95  \n",
       "std        0.00        0.00            0.00  46717738673.50  46775105667.76  \n",
       "min        0.99        1.00            1.00  28509871425.00  28557882048.48  \n",
       "25%        1.00        1.00            1.00  55433675337.25  55427668106.69  \n",
       "50%        1.00        1.00            1.00  77363753748.50  77391295647.71  \n",
       "75%        1.00        1.00            1.00 100285985201.75 100372615373.91  \n",
       "max        1.00        1.01            1.01 279067455600.00 279240477422.47  \n",
       "\n",
       "[8 rows x 35 columns]"
      ]
     },
     "execution_count": 446,
     "metadata": {},
     "output_type": "execute_result"
    }
   ],
   "source": [
    "Crypto_data = pd.concat([Euthereum_data, Doge_data, Bitcoin_data, Sushi_data, Tether_data], axis=\"columns\", join=\"inner\").dropna()\n",
    "Crypto_data.describe()"
   ]
  },
  {
   "cell_type": "code",
   "execution_count": 448,
   "metadata": {},
   "outputs": [
    {
     "data": {
      "text/html": [
       "<div>\n",
       "<style scoped>\n",
       "    .dataframe tbody tr th:only-of-type {\n",
       "        vertical-align: middle;\n",
       "    }\n",
       "\n",
       "    .dataframe tbody tr th {\n",
       "        vertical-align: top;\n",
       "    }\n",
       "\n",
       "    .dataframe thead th {\n",
       "        text-align: right;\n",
       "    }\n",
       "</style>\n",
       "<table border=\"1\" class=\"dataframe\">\n",
       "  <thead>\n",
       "    <tr style=\"text-align: right;\">\n",
       "      <th></th>\n",
       "      <th>ETH Close</th>\n",
       "      <th>BTC Close</th>\n",
       "      <th>DOGE Close</th>\n",
       "      <th>SUSHI Close</th>\n",
       "      <th>USDT Close</th>\n",
       "    </tr>\n",
       "    <tr>\n",
       "      <th>Date</th>\n",
       "      <th></th>\n",
       "      <th></th>\n",
       "      <th></th>\n",
       "      <th></th>\n",
       "      <th></th>\n",
       "    </tr>\n",
       "  </thead>\n",
       "  <tbody>\n",
       "    <tr>\n",
       "      <th>2020-10-07</th>\n",
       "      <td>0.00</td>\n",
       "      <td>0.01</td>\n",
       "      <td>-0.00</td>\n",
       "      <td>0.06</td>\n",
       "      <td>-0.00</td>\n",
       "    </tr>\n",
       "    <tr>\n",
       "      <th>2020-10-08</th>\n",
       "      <td>0.03</td>\n",
       "      <td>0.02</td>\n",
       "      <td>0.00</td>\n",
       "      <td>0.14</td>\n",
       "      <td>0.00</td>\n",
       "    </tr>\n",
       "    <tr>\n",
       "      <th>2020-10-10</th>\n",
       "      <td>0.06</td>\n",
       "      <td>0.03</td>\n",
       "      <td>0.02</td>\n",
       "      <td>-0.03</td>\n",
       "      <td>-0.00</td>\n",
       "    </tr>\n",
       "    <tr>\n",
       "      <th>2020-10-11</th>\n",
       "      <td>0.01</td>\n",
       "      <td>0.01</td>\n",
       "      <td>0.01</td>\n",
       "      <td>0.01</td>\n",
       "      <td>-0.00</td>\n",
       "    </tr>\n",
       "    <tr>\n",
       "      <th>2020-10-14</th>\n",
       "      <td>0.01</td>\n",
       "      <td>0.00</td>\n",
       "      <td>-0.01</td>\n",
       "      <td>-0.05</td>\n",
       "      <td>0.00</td>\n",
       "    </tr>\n",
       "    <tr>\n",
       "      <th>...</th>\n",
       "      <td>...</td>\n",
       "      <td>...</td>\n",
       "      <td>...</td>\n",
       "      <td>...</td>\n",
       "      <td>...</td>\n",
       "    </tr>\n",
       "    <tr>\n",
       "      <th>2021-10-02</th>\n",
       "      <td>0.03</td>\n",
       "      <td>-0.01</td>\n",
       "      <td>-0.02</td>\n",
       "      <td>0.01</td>\n",
       "      <td>0.00</td>\n",
       "    </tr>\n",
       "    <tr>\n",
       "      <th>2021-10-03</th>\n",
       "      <td>0.01</td>\n",
       "      <td>0.01</td>\n",
       "      <td>0.01</td>\n",
       "      <td>-0.01</td>\n",
       "      <td>-0.00</td>\n",
       "    </tr>\n",
       "    <tr>\n",
       "      <th>2021-10-04</th>\n",
       "      <td>-0.01</td>\n",
       "      <td>0.02</td>\n",
       "      <td>0.09</td>\n",
       "      <td>-0.04</td>\n",
       "      <td>-0.00</td>\n",
       "    </tr>\n",
       "    <tr>\n",
       "      <th>2021-10-05</th>\n",
       "      <td>0.04</td>\n",
       "      <td>0.05</td>\n",
       "      <td>0.05</td>\n",
       "      <td>0.04</td>\n",
       "      <td>0.00</td>\n",
       "    </tr>\n",
       "    <tr>\n",
       "      <th>2021-10-06</th>\n",
       "      <td>0.02</td>\n",
       "      <td>0.07</td>\n",
       "      <td>0.00</td>\n",
       "      <td>0.00</td>\n",
       "      <td>-0.00</td>\n",
       "    </tr>\n",
       "  </tbody>\n",
       "</table>\n",
       "<p>207 rows × 5 columns</p>\n",
       "</div>"
      ],
      "text/plain": [
       "            ETH Close  BTC Close  DOGE Close  SUSHI Close  USDT Close\n",
       "Date                                                                 \n",
       "2020-10-07       0.00       0.01       -0.00         0.06       -0.00\n",
       "2020-10-08       0.03       0.02        0.00         0.14        0.00\n",
       "2020-10-10       0.06       0.03        0.02        -0.03       -0.00\n",
       "2020-10-11       0.01       0.01        0.01         0.01       -0.00\n",
       "2020-10-14       0.01       0.00       -0.01        -0.05        0.00\n",
       "...               ...        ...         ...          ...         ...\n",
       "2021-10-02       0.03      -0.01       -0.02         0.01        0.00\n",
       "2021-10-03       0.01       0.01        0.01        -0.01       -0.00\n",
       "2021-10-04      -0.01       0.02        0.09        -0.04       -0.00\n",
       "2021-10-05       0.04       0.05        0.05         0.04        0.00\n",
       "2021-10-06       0.02       0.07        0.00         0.00       -0.00\n",
       "\n",
       "[207 rows x 5 columns]"
      ]
     },
     "execution_count": 448,
     "metadata": {},
     "output_type": "execute_result"
    }
   ],
   "source": [
    "Crypto_data[['ETH Close','BTC Close','DOGE Close','SUSHI Close','USDT Close']].pct_change().dropna()"
   ]
  },
  {
   "cell_type": "code",
   "execution_count": 451,
   "metadata": {},
   "outputs": [
    {
     "data": {
      "text/plain": [
       "<AxesSubplot:title={'center':'Cumulative Returns'}, xlabel='Date'>"
      ]
     },
     "execution_count": 451,
     "metadata": {},
     "output_type": "execute_result"
    },
    {
     "data": {
      "image/png": "[encoded data removed]",
      "text/plain": [
       "<Figure size 720x720 with 1 Axes>"
      ]
     },
     "metadata": {
      "needs_background": "light"
     },
     "output_type": "display_data"
    }
   ],
   "source": [
    "Crypto_Daily_Returns=Crypto_data[['ETH Close','BTC Close','DOGE Close','SUSHI Close','USDT Close']].pct_change().dropna()\n",
    "(1+Crypto_Daily_Returns).cumprod().plot(figsize=(10, 10), title=\"Cumulative Returns\")"
   ]
  },
  {
   "cell_type": "markdown",
   "metadata": {},
   "source": [
    "## *Growth dominated by lower capitalization and Meme coins*\n",
    "\n",
    "As we can see with the plot of the cummulative returns over the period of *oct-2020* to *oct-2021*, shows SUSHI and DogeCoin as the assets with the highest levels of growth. One argument in favor of including these types of assets in our portfolio in combination with blue chip assets like Bitcoin and Ethereum."
   ]
  },
  {
   "cell_type": "code",
   "execution_count": 535,
   "metadata": {},
   "outputs": [
    {
     "data": {
      "text/plain": [
       "<AxesSubplot:xlabel='assets', ylabel='daily return'>"
      ]
     },
     "execution_count": 535,
     "metadata": {},
     "output_type": "execute_result"
    },
    {
     "data": {
      "image/png": "[encoded data removed]",
      "text/plain": [
       "<Figure size 1440x360 with 1 Axes>"
      ]
     },
     "metadata": {},
     "output_type": "display_data"
    }
   ],
   "source": [
    "\n",
    "import seaborn as sns\n",
    "\n",
    "sns.set_theme(style=\"ticks\", palette=\"pastel\")\n",
    "\n",
    "t=sns.load_dataset(\"tips\")\n",
    "\n",
    "Crypto_Daily_Returns=Crypto_data[['ETH Close','BTC Close','DOGE Close','SUSHI Close','USDT Close']].pct_change().dropna().reset_index()\n",
    "Crypto_Daily_Returns_unpivoted=Crypto_Daily_Returns.melt(id_vars='Date',var_name='assets',value_name='daily return').set_index('Date')\n",
    "Crypto_Daily_Returns_unpivoted.index=pd.DatetimeIndex(Crypto_Daily_Returns_unpivoted.index)\n",
    "Crypto_Daily_Returns_unpivoted.index.year\n",
    "\n",
    "\n",
    "\n",
    "sns.set(rc = {'figure.figsize':(20,5)})\n",
    "sns.violinplot(x=\"assets\", y=\"daily return\",\n",
    "            hue=\"assets\", \n",
    "            data=Crypto_Daily_Returns_unpivoted)\n",
    "#t"
   ]
  },
  {
   "cell_type": "markdown",
   "metadata": {},
   "source": [
    "The boxplot shows the presence of a lot of outlier data in meme coins (Doge) and low Cap coins (Sushi). the dispersion of data around the mean daily returns seems less pronounced in blue chip large cap coins. "
   ]
  },
  {
   "cell_type": "code",
   "execution_count": 546,
   "metadata": {},
   "outputs": [
    {
     "data": {
      "text/plain": [
       "DOGE Close    1.54\n",
       "SUSHI Close   1.44\n",
       "ETH Close     0.28\n",
       "BTC Close     0.23\n",
       "USDT Close    0.00\n",
       "dtype: float64"
      ]
     },
     "execution_count": 546,
     "metadata": {},
     "output_type": "execute_result"
    }
   ],
   "source": [
    "Crypto_Daily_Returns.std().sort_values(ascending=False)\n"
   ]
  },
  {
   "cell_type": "markdown",
   "metadata": {},
   "source": [
    "the volatility is confirms the observations in the violon plot showing more volatility in meme and low cap coins"
   ]
  },
  {
   "cell_type": "code",
   "execution_count": 382,
   "metadata": {},
   "outputs": [
    {
     "data": {
      "text/plain": [
       "ETH Close      1.67\n",
       "BTC Close      1.45\n",
       "DOGE Close     1.49\n",
       "SUSHI Close    1.36\n",
       "USDT Close    -0.10\n",
       "dtype: float64"
      ]
     },
     "execution_count": 382,
     "metadata": {},
     "output_type": "execute_result"
    }
   ],
   "source": [
    "annual_std = Crypto_Daily_Returns.std()* np.sqrt(365)\n",
    "sharpe_ratios=(Crypto_Daily_Returns.mean()*365)/annual_std\n",
    "sharpe_ratios\n",
    "#comment"
   ]
  },
  {
   "cell_type": "markdown",
   "metadata": {},
   "source": [
    "the data suggests that the highest sharpe ratios is in Ethereum which would indicate making the portfolio overweight in ETH. The stablecoin (USDT) as expected has a sharpe ratio closer to 0 indicating using it to reduce volatility in the portfolio"
   ]
  },
  {
   "cell_type": "code",
   "execution_count": 383,
   "metadata": {},
   "outputs": [
    {
     "data": {
      "application/vnd.jupyter.widget-view+json": {
       "model_id": "10ff8b3b9cb4426cb73f0f33d03faa5a",
       "version_major": 2,
       "version_minor": 0
      },
      "text/plain": [
       "BokehModel(combine_events=True, render_bundle={'docs_json': {'3dde8e31-57e8-48c0-a898-59be2fd54862': {'defs': …"
      ]
     },
     "metadata": {},
     "output_type": "display_data"
    },
    {
     "data": {
      "text/html": [
       "<div style=\"display: none\"></div>"
      ],
      "text/plain": [
       ":DynamicMap   [year]\n",
       "   :NdOverlay   [ticker]\n",
       "      :Curve   [Date]   (Volume)"
      ]
     },
     "execution_count": 383,
     "metadata": {},
     "output_type": "execute_result"
    }
   ],
   "source": [
    "#df.hvplot.line(x=x_var,y=y_var,xlabel =x_label,ylabel =y_label,title=title,groupby=groupby)\n",
    "\n",
    "test=volume_data#.groupby(['Date','ticker']).sum()\n",
    "test['year-month']=test['Date'].str.slice(0,7,1)\n",
    "test['year']=test['Date'].str.slice(0,4,1)\n",
    "test\n",
    "\n",
    "test.hvplot.line(x='Date',y='Volume',xlabel='Date',ylabel='Volume',title='Intraday Volume',by='ticker',figsize=(200,100),groupby='year')\n",
    "#test2.hvplot.line(x='year-month',y='Volume',xlabel='Date',ylabel='Volume',title='Intraday Volume',by='ticker',figsize=(200,100))\n",
    "\n",
    "\n",
    "\n"
   ]
  },
  {
   "cell_type": "code",
   "execution_count": 553,
   "metadata": {},
   "outputs": [
    {
     "data": {
      "application/vnd.jupyter.widget-view+json": {
       "model_id": "f4e22bbed7134b86b839c697d604903e",
       "version_major": 2,
       "version_minor": 0
      },
      "text/plain": [
       "BokehModel(combine_events=True, render_bundle={'docs_json': {'d5c6028d-64bf-4a91-8cba-3ca707e29a57': {'defs': …"
      ]
     },
     "metadata": {},
     "output_type": "display_data"
    },
    {
     "data": {
      "text/html": [
       "<div style=\"display: none\"></div>"
      ],
      "text/plain": [
       ":DynamicMap   [year]\n",
       "   :NdOverlay   [ticker]\n",
       "      :Curve   [Date]   (Total Traded)"
      ]
     },
     "execution_count": 553,
     "metadata": {},
     "output_type": "execute_result"
    }
   ],
   "source": [
    "Trade_data.head()\n",
    "Trade_data['year']=test['Date'].str.slice(0,4,1)\n",
    "\n",
    "Trade_data.hvplot.line(x='Date',y='Total Traded',xlabel='Date',ylabel='Daily Traded Total',title='Intraday Traded',by='ticker',figsize=(500,1000),groupby='year')"
   ]
  },
  {
   "cell_type": "markdown",
   "metadata": {},
   "source": [
    "we can see that the volatility is related to the traded volume. the bigger coins have highest trading activities. Bitcoin is more traded while USDT has the foremost amount of volume on exchanges\n",
    "\n"
   ]
  },
  {
   "cell_type": "code",
   "execution_count": 385,
   "metadata": {},
   "outputs": [
    {
     "data": {
      "image/png": "[encoded data removed]",
      "text/plain": [
       "<Figure size 1440x1080 with 1 Axes>"
      ]
     },
     "metadata": {
      "needs_background": "light"
     },
     "output_type": "display_data"
    }
   ],
   "source": [
    "s_test= Crypto_data.loc[:,['ETH Close','ETH High']].dropna()\n",
    "plt.figure(figsize=(20,15))\n",
    "\n",
    "s_test['ETH Close'].plot(label='close')\n",
    "s_test['ETH High'].plot(label='high')\n",
    "plt.legend(loc='upper right')\n",
    "plt.show()\n"
   ]
  },
  {
   "cell_type": "markdown",
   "metadata": {},
   "source": [
    "# What is the optimal Portfolio for reducing exposure to volatility or to risk\n",
    "\n",
    "in this section we compute the daily returns of the close prices for each asset and annualized the covariance matrix"
   ]
  },
  {
   "cell_type": "code",
   "execution_count": 554,
   "metadata": {},
   "outputs": [],
   "source": [
    "#filter the columns use\n",
    "col=['ETH Close','BTC Close','DOGE Close','USDT Close','SUSHI Close']\n",
    "df=Crypto_data[col]\n",
    "\n",
    "#rename the columns to tickers\n",
    "df.rename(columns={'ETH Close':'ETH','BTC Close':'BTC','DOGE Close':'DOGE','USDT Close':'USDT','SUSHI Close':'SUSHI'},inplace=True)\n",
    "df.index=pd.DatetimeIndex(df.index)\n",
    "\n",
    "#compute percent change and covariance matrix\n",
    "daily_returns=df.pct_change().dropna()\n",
    "variance_matrix=len(daily_returns.index)*daily_returns.cov()\n"
   ]
  },
  {
   "cell_type": "markdown",
   "metadata": {},
   "source": [
    "we need to loop through multiple combinations of portfolio and store the returns and volatility encounterd in each scenario"
   ]
  },
  {
   "cell_type": "code",
   "execution_count": 556,
   "metadata": {},
   "outputs": [
    {
     "data": {
      "text/plain": [
       "ETH      8.83\n",
       "BTC      6.50\n",
       "DOGE    43.86\n",
       "USDT    -0.00\n",
       "SUSHI   37.50\n",
       "dtype: float64"
      ]
     },
     "execution_count": 556,
     "metadata": {},
     "output_type": "execute_result"
    }
   ],
   "source": [
    "#create empty list to store all returns, volatility and weights\n",
    "port_returns=[]\n",
    "port_volatility=[]\n",
    "port_weights=[]\n",
    "\n",
    "#find the number of assets to assign weight to\n",
    "num_assets=len(daily_returns.columns)\n",
    "\n",
    "#find the number of scenarios\n",
    "num_portfolios=10000\n",
    "\n",
    "#compute the expected return which is the mean of the retuns\n",
    "individual_returns=df.pct_change().mean()*365#len(daily_returns.index)#df[(df.index=='2020-10-06')|(df.index=='2021-10-06')].pct_change().mean()*100\n",
    "\n",
    "#print the annualized returns\n",
    "individual_returns\n",
    "\n"
   ]
  },
  {
   "cell_type": "markdown",
   "metadata": {},
   "source": []
  },
  {
   "cell_type": "code",
   "execution_count": 557,
   "metadata": {},
   "outputs": [],
   "source": [
    "#we loop through each scenarios to find the weights, returns and volatility encountered\n",
    "for port in range(num_portfolios):\n",
    "    weights=np.random.random(num_assets)\n",
    "    weights=weights/np.sum(weights)\n",
    "    port_weights.append(weights)\n",
    "    returns= np.dot(weights,individual_returns)\n",
    "    port_returns.append(returns)\n",
    "\n",
    "    var=variance_matrix.mul(weights,axis=0).mul(weights,axis=1).sum().sum()\n",
    "    sd=np.sqrt(var)\n",
    "\n",
    "    ann_sd=sd*np.sqrt(len(daily_returns.index))\n",
    "    port_volatility.append(ann_sd)"
   ]
  },
  {
   "cell_type": "code",
   "execution_count": 559,
   "metadata": {},
   "outputs": [],
   "source": [
    "#create dictionary to store all the retuns and their volatility from all the scenarios\n",
    "data ={'returns':port_returns,'Volatility':port_volatility}\n",
    "for counter,ticker in enumerate(df.columns.to_list()):\n",
    "    data[ticker+' weight'] = [w[counter] for w in port_weights]\n"
   ]
  },
  {
   "cell_type": "code",
   "execution_count": 560,
   "metadata": {},
   "outputs": [],
   "source": [
    "#create data frame from dictionnary\n",
    "portfolio=pd.DataFrame(data)"
   ]
  },
  {
   "cell_type": "code",
   "execution_count": 561,
   "metadata": {},
   "outputs": [],
   "source": [
    "#minimum volatility:\n",
    "min_vol_port=portfolio.iloc[[portfolio['Volatility'].idxmin()]]\n",
    "\n",
    "#highest sharpe ratio:\n",
    "optimal_sharpe_portfolio=portfolio.loc[[((portfolio['returns']-0)/portfolio['Volatility']).idxmax()]]\n"
   ]
  },
  {
   "cell_type": "code",
   "execution_count": 569,
   "metadata": {},
   "outputs": [],
   "source": [
    "min_weight_df=pd.DataFrame(min_vol_port.iloc[:,2:].unstack()).replace(' weight','').reset_index().rename(columns={'level_0':'ticker',0:'weight'}).drop('level_1',axis=1)\n",
    "min_weight_df['ticker']= min_weight_df['ticker'].str.replace(' weight','')\n",
    "\n",
    "optimal_weight_df=pd.DataFrame(optimal_sharpe_portfolio.iloc[:,2:].unstack()).replace(' weight','').reset_index().rename(columns={'level_0':'ticker',0:'weight'}).drop('level_1',axis=1)\n",
    "optimal_weight_df['ticker']= optimal_weight_df['ticker'].str.replace(' weight','')\n"
   ]
  },
  {
   "cell_type": "code",
   "execution_count": 565,
   "metadata": {},
   "outputs": [
    {
     "data": {
      "application/vnd.plotly.v1+json": {
       "config": {
        "plotlyServerURL": "https://plot.ly"
       },
       "data": [
        {
         "domain": {
          "x": [
           0,
           1
          ],
          "y": [
           0,
           1
          ]
         },
         "hovertemplate": "ticker=%{label}<br>weight=%{value}<extra></extra>",
         "labels": [
          "ETH",
          "BTC",
          "DOGE",
          "USDT",
          "SUSHI"
         ],
         "legendgroup": "",
         "name": "",
         "showlegend": true,
         "type": "pie",
         "values": [
          0.05979001239361949,
          0.1517101777250161,
          0.03833702722418902,
          0.7454230146950972,
          0.004739767962078198
         ]
        }
       ],
       "layout": {
        "font": {
         "size": 18
        },
        "legend": {
         "tracegroupgap": 0
        },
        "margin": {
         "t": 60
        },
        "template": {
         "data": {
          "bar": [
           {
            "error_x": {
             "color": "#2a3f5f"
            },
            "error_y": {
             "color": "#2a3f5f"
            },
            "marker": {
             "line": {
              "color": "#E5ECF6",
              "width": 0.5
             },
             "pattern": {
              "fillmode": "overlay",
              "size": 10,
              "solidity": 0.2
             }
            },
            "type": "bar"
           }
          ],
          "barpolar": [
           {
            "marker": {
             "line": {
              "color": "#E5ECF6",
              "width": 0.5
             },
             "pattern": {
              "fillmode": "overlay",
              "size": 10,
              "solidity": 0.2
             }
            },
            "type": "barpolar"
           }
          ],
          "carpet": [
           {
            "aaxis": {
             "endlinecolor": "#2a3f5f",
             "gridcolor": "white",
             "linecolor": "white",
             "minorgridcolor": "white",
             "startlinecolor": "#2a3f5f"
            },
            "baxis": {
             "endlinecolor": "#2a3f5f",
             "gridcolor": "white",
             "linecolor": "white",
             "minorgridcolor": "white",
             "startlinecolor": "#2a3f5f"
            },
            "type": "carpet"
           }
          ],
          "choropleth": [
           {
            "colorbar": {
             "outlinewidth": 0,
             "ticks": ""
            },
            "type": "choropleth"
           }
          ],
          "contour": [
           {
            "colorbar": {
             "outlinewidth": 0,
             "ticks": ""
            },
            "colorscale": [
             [
              0,
              "#0d0887"
             ],
             [
              0.1111111111111111,
              "#46039f"
             ],
             [
              0.2222222222222222,
              "#7201a8"
             ],
             [
              0.3333333333333333,
              "#9c179e"
             ],
             [
              0.4444444444444444,
              "#bd3786"
             ],
             [
              0.5555555555555556,
              "#d8576b"
             ],
             [
              0.6666666666666666,
              "#ed7953"
             ],
             [
              0.7777777777777778,
              "#fb9f3a"
             ],
             [
              0.8888888888888888,
              "#fdca26"
             ],
             [
              1,
              "#f0f921"
             ]
            ],
            "type": "contour"
           }
          ],
          "contourcarpet": [
           {
            "colorbar": {
             "outlinewidth": 0,
             "ticks": ""
            },
            "type": "contourcarpet"
           }
          ],
          "heatmap": [
           {
            "colorbar": {
             "outlinewidth": 0,
             "ticks": ""
            },
            "colorscale": [
             [
              0,
              "#0d0887"
             ],
             [
              0.1111111111111111,
              "#46039f"
             ],
             [
              0.2222222222222222,
              "#7201a8"
             ],
             [
              0.3333333333333333,
              "#9c179e"
             ],
             [
              0.4444444444444444,
              "#bd3786"
             ],
             [
              0.5555555555555556,
              "#d8576b"
             ],
             [
              0.6666666666666666,
              "#ed7953"
             ],
             [
              0.7777777777777778,
              "#fb9f3a"
             ],
             [
              0.8888888888888888,
              "#fdca26"
             ],
             [
              1,
              "#f0f921"
             ]
            ],
            "type": "heatmap"
           }
          ],
          "heatmapgl": [
           {
            "colorbar": {
             "outlinewidth": 0,
             "ticks": ""
            },
            "colorscale": [
             [
              0,
              "#0d0887"
             ],
             [
              0.1111111111111111,
              "#46039f"
             ],
             [
              0.2222222222222222,
              "#7201a8"
             ],
             [
              0.3333333333333333,
              "#9c179e"
             ],
             [
              0.4444444444444444,
              "#bd3786"
             ],
             [
              0.5555555555555556,
              "#d8576b"
             ],
             [
              0.6666666666666666,
              "#ed7953"
             ],
             [
              0.7777777777777778,
              "#fb9f3a"
             ],
             [
              0.8888888888888888,
              "#fdca26"
             ],
             [
              1,
              "#f0f921"
             ]
            ],
            "type": "heatmapgl"
           }
          ],
          "histogram": [
           {
            "marker": {
             "pattern": {
              "fillmode": "overlay",
              "size": 10,
              "solidity": 0.2
             }
            },
            "type": "histogram"
           }
          ],
          "histogram2d": [
           {
            "colorbar": {
             "outlinewidth": 0,
             "ticks": ""
            },
            "colorscale": [
             [
              0,
              "#0d0887"
             ],
             [
              0.1111111111111111,
              "#46039f"
             ],
             [
              0.2222222222222222,
              "#7201a8"
             ],
             [
              0.3333333333333333,
              "#9c179e"
             ],
             [
              0.4444444444444444,
              "#bd3786"
             ],
             [
              0.5555555555555556,
              "#d8576b"
             ],
             [
              0.6666666666666666,
              "#ed7953"
             ],
             [
              0.7777777777777778,
              "#fb9f3a"
             ],
             [
              0.8888888888888888,
              "#fdca26"
             ],
             [
              1,
              "#f0f921"
             ]
            ],
            "type": "histogram2d"
           }
          ],
          "histogram2dcontour": [
           {
            "colorbar": {
             "outlinewidth": 0,
             "ticks": ""
            },
            "colorscale": [
             [
              0,
              "#0d0887"
             ],
             [
              0.1111111111111111,
              "#46039f"
             ],
             [
              0.2222222222222222,
              "#7201a8"
             ],
             [
              0.3333333333333333,
              "#9c179e"
             ],
             [
              0.4444444444444444,
              "#bd3786"
             ],
             [
              0.5555555555555556,
              "#d8576b"
             ],
             [
              0.6666666666666666,
              "#ed7953"
             ],
             [
              0.7777777777777778,
              "#fb9f3a"
             ],
             [
              0.8888888888888888,
              "#fdca26"
             ],
             [
              1,
              "#f0f921"
             ]
            ],
            "type": "histogram2dcontour"
           }
          ],
          "mesh3d": [
           {
            "colorbar": {
             "outlinewidth": 0,
             "ticks": ""
            },
            "type": "mesh3d"
           }
          ],
          "parcoords": [
           {
            "line": {
             "colorbar": {
              "outlinewidth": 0,
              "ticks": ""
             }
            },
            "type": "parcoords"
           }
          ],
          "pie": [
           {
            "automargin": true,
            "type": "pie"
           }
          ],
          "scatter": [
           {
            "marker": {
             "colorbar": {
              "outlinewidth": 0,
              "ticks": ""
             }
            },
            "type": "scatter"
           }
          ],
          "scatter3d": [
           {
            "line": {
             "colorbar": {
              "outlinewidth": 0,
              "ticks": ""
             }
            },
            "marker": {
             "colorbar": {
              "outlinewidth": 0,
              "ticks": ""
             }
            },
            "type": "scatter3d"
           }
          ],
          "scattercarpet": [
           {
            "marker": {
             "colorbar": {
              "outlinewidth": 0,
              "ticks": ""
             }
            },
            "type": "scattercarpet"
           }
          ],
          "scattergeo": [
           {
            "marker": {
             "colorbar": {
              "outlinewidth": 0,
              "ticks": ""
             }
            },
            "type": "scattergeo"
           }
          ],
          "scattergl": [
           {
            "marker": {
             "colorbar": {
              "outlinewidth": 0,
              "ticks": ""
             }
            },
            "type": "scattergl"
           }
          ],
          "scattermapbox": [
           {
            "marker": {
             "colorbar": {
              "outlinewidth": 0,
              "ticks": ""
             }
            },
            "type": "scattermapbox"
           }
          ],
          "scatterpolar": [
           {
            "marker": {
             "colorbar": {
              "outlinewidth": 0,
              "ticks": ""
             }
            },
            "type": "scatterpolar"
           }
          ],
          "scatterpolargl": [
           {
            "marker": {
             "colorbar": {
              "outlinewidth": 0,
              "ticks": ""
             }
            },
            "type": "scatterpolargl"
           }
          ],
          "scatterternary": [
           {
            "marker": {
             "colorbar": {
              "outlinewidth": 0,
              "ticks": ""
             }
            },
            "type": "scatterternary"
           }
          ],
          "surface": [
           {
            "colorbar": {
             "outlinewidth": 0,
             "ticks": ""
            },
            "colorscale": [
             [
              0,
              "#0d0887"
             ],
             [
              0.1111111111111111,
              "#46039f"
             ],
             [
              0.2222222222222222,
              "#7201a8"
             ],
             [
              0.3333333333333333,
              "#9c179e"
             ],
             [
              0.4444444444444444,
              "#bd3786"
             ],
             [
              0.5555555555555556,
              "#d8576b"
             ],
             [
              0.6666666666666666,
              "#ed7953"
             ],
             [
              0.7777777777777778,
              "#fb9f3a"
             ],
             [
              0.8888888888888888,
              "#fdca26"
             ],
             [
              1,
              "#f0f921"
             ]
            ],
            "type": "surface"
           }
          ],
          "table": [
           {
            "cells": {
             "fill": {
              "color": "#EBF0F8"
             },
             "line": {
              "color": "white"
             }
            },
            "header": {
             "fill": {
              "color": "#C8D4E3"
             },
             "line": {
              "color": "white"
             }
            },
            "type": "table"
           }
          ]
         },
         "layout": {
          "annotationdefaults": {
           "arrowcolor": "#2a3f5f",
           "arrowhead": 0,
           "arrowwidth": 1
          },
          "autotypenumbers": "strict",
          "coloraxis": {
           "colorbar": {
            "outlinewidth": 0,
            "ticks": ""
           }
          },
          "colorscale": {
           "diverging": [
            [
             0,
             "#8e0152"
            ],
            [
             0.1,
             "#c51b7d"
            ],
            [
             0.2,
             "#de77ae"
            ],
            [
             0.3,
             "#f1b6da"
            ],
            [
             0.4,
             "#fde0ef"
            ],
            [
             0.5,
             "#f7f7f7"
            ],
            [
             0.6,
             "#e6f5d0"
            ],
            [
             0.7,
             "#b8e186"
            ],
            [
             0.8,
             "#7fbc41"
            ],
            [
             0.9,
             "#4d9221"
            ],
            [
             1,
             "#276419"
            ]
           ],
           "sequential": [
            [
             0,
             "#0d0887"
            ],
            [
             0.1111111111111111,
             "#46039f"
            ],
            [
             0.2222222222222222,
             "#7201a8"
            ],
            [
             0.3333333333333333,
             "#9c179e"
            ],
            [
             0.4444444444444444,
             "#bd3786"
            ],
            [
             0.5555555555555556,
             "#d8576b"
            ],
            [
             0.6666666666666666,
             "#ed7953"
            ],
            [
             0.7777777777777778,
             "#fb9f3a"
            ],
            [
             0.8888888888888888,
             "#fdca26"
            ],
            [
             1,
             "#f0f921"
            ]
           ],
           "sequentialminus": [
            [
             0,
             "#0d0887"
            ],
            [
             0.1111111111111111,
             "#46039f"
            ],
            [
             0.2222222222222222,
             "#7201a8"
            ],
            [
             0.3333333333333333,
             "#9c179e"
            ],
            [
             0.4444444444444444,
             "#bd3786"
            ],
            [
             0.5555555555555556,
             "#d8576b"
            ],
            [
             0.6666666666666666,
             "#ed7953"
            ],
            [
             0.7777777777777778,
             "#fb9f3a"
            ],
            [
             0.8888888888888888,
             "#fdca26"
            ],
            [
             1,
             "#f0f921"
            ]
           ]
          },
          "colorway": [
           "#636efa",
           "#EF553B",
           "#00cc96",
           "#ab63fa",
           "#FFA15A",
           "#19d3f3",
           "#FF6692",
           "#B6E880",
           "#FF97FF",
           "#FECB52"
          ],
          "font": {
           "color": "#2a3f5f"
          },
          "geo": {
           "bgcolor": "white",
           "lakecolor": "white",
           "landcolor": "#E5ECF6",
           "showlakes": true,
           "showland": true,
           "subunitcolor": "white"
          },
          "hoverlabel": {
           "align": "left"
          },
          "hovermode": "closest",
          "mapbox": {
           "style": "light"
          },
          "paper_bgcolor": "white",
          "plot_bgcolor": "#E5ECF6",
          "polar": {
           "angularaxis": {
            "gridcolor": "white",
            "linecolor": "white",
            "ticks": ""
           },
           "bgcolor": "#E5ECF6",
           "radialaxis": {
            "gridcolor": "white",
            "linecolor": "white",
            "ticks": ""
           }
          },
          "scene": {
           "xaxis": {
            "backgroundcolor": "#E5ECF6",
            "gridcolor": "white",
            "gridwidth": 2,
            "linecolor": "white",
            "showbackground": true,
            "ticks": "",
            "zerolinecolor": "white"
           },
           "yaxis": {
            "backgroundcolor": "#E5ECF6",
            "gridcolor": "white",
            "gridwidth": 2,
            "linecolor": "white",
            "showbackground": true,
            "ticks": "",
            "zerolinecolor": "white"
           },
           "zaxis": {
            "backgroundcolor": "#E5ECF6",
            "gridcolor": "white",
            "gridwidth": 2,
            "linecolor": "white",
            "showbackground": true,
            "ticks": "",
            "zerolinecolor": "white"
           }
          },
          "shapedefaults": {
           "line": {
            "color": "#2a3f5f"
           }
          },
          "ternary": {
           "aaxis": {
            "gridcolor": "white",
            "linecolor": "white",
            "ticks": ""
           },
           "baxis": {
            "gridcolor": "white",
            "linecolor": "white",
            "ticks": ""
           },
           "bgcolor": "#E5ECF6",
           "caxis": {
            "gridcolor": "white",
            "linecolor": "white",
            "ticks": ""
           }
          },
          "title": {
           "x": 0.05
          },
          "xaxis": {
           "automargin": true,
           "gridcolor": "white",
           "linecolor": "white",
           "ticks": "",
           "title": {
            "standoff": 15
           },
           "zerolinecolor": "white",
           "zerolinewidth": 2
          },
          "yaxis": {
           "automargin": true,
           "gridcolor": "white",
           "linecolor": "white",
           "ticks": "",
           "title": {
            "standoff": 15
           },
           "zerolinecolor": "white",
           "zerolinewidth": 2
          }
         }
        },
        "title": {
         "text": "Weight of minimum volatility portfolio"
        }
       }
      }
     },
     "metadata": {},
     "output_type": "display_data"
    }
   ],
   "source": [
    "fig=px.pie(data_frame=min_weight_df,names='ticker',values='weight')\n",
    "fig.update_layout(\n",
    "    title='Weight of minimum volatility portfolio',\n",
    "    font=dict(size=18 ))"
   ]
  },
  {
   "cell_type": "markdown",
   "metadata": {},
   "source": [
    "We see the minimum variance portfolio is overweight in USDT."
   ]
  },
  {
   "cell_type": "code",
   "execution_count": 600,
   "metadata": {},
   "outputs": [
    {
     "name": "stdout",
     "output_type": "stream",
     "text": [
      "the minimum Volatility portfolio annualized portfolio return is 3.3716421930379608%\n",
      "the annualized volatility is 24.365908338662326\n"
     ]
    }
   ],
   "source": [
    "print(f\"the minimum Volatility portfolio annualized portfolio return is {pd.DataFrame(min_vol_port.reset_index()).returns[0]}%\")\n",
    "print(f'the annualized volatility is {pd.DataFrame(min_vol_port.reset_index()).Volatility[0]}')"
   ]
  },
  {
   "cell_type": "code",
   "execution_count": 394,
   "metadata": {},
   "outputs": [
    {
     "data": {
      "application/vnd.plotly.v1+json": {
       "config": {
        "plotlyServerURL": "https://plot.ly"
       },
       "data": [
        {
         "domain": {
          "x": [
           0,
           1
          ],
          "y": [
           0,
           1
          ]
         },
         "hovertemplate": "ticker=%{label}<br>weight=%{value}<extra></extra>",
         "labels": [
          "ETH",
          "BTC",
          "DOGE",
          "USDT",
          "SUSHI"
         ],
         "legendgroup": "",
         "name": "",
         "showlegend": true,
         "type": "pie",
         "values": [
          0.5418740514148561,
          0.09332048420763904,
          0.02909358722277649,
          0.32569447233816934,
          0.01001740481655907
         ]
        }
       ],
       "layout": {
        "font": {
         "size": 18
        },
        "legend": {
         "tracegroupgap": 0
        },
        "margin": {
         "t": 60
        },
        "template": {
         "data": {
          "bar": [
           {
            "error_x": {
             "color": "#2a3f5f"
            },
            "error_y": {
             "color": "#2a3f5f"
            },
            "marker": {
             "line": {
              "color": "#E5ECF6",
              "width": 0.5
             },
             "pattern": {
              "fillmode": "overlay",
              "size": 10,
              "solidity": 0.2
             }
            },
            "type": "bar"
           }
          ],
          "barpolar": [
           {
            "marker": {
             "line": {
              "color": "#E5ECF6",
              "width": 0.5
             },
             "pattern": {
              "fillmode": "overlay",
              "size": 10,
              "solidity": 0.2
             }
            },
            "type": "barpolar"
           }
          ],
          "carpet": [
           {
            "aaxis": {
             "endlinecolor": "#2a3f5f",
             "gridcolor": "white",
             "linecolor": "white",
             "minorgridcolor": "white",
             "startlinecolor": "#2a3f5f"
            },
            "baxis": {
             "endlinecolor": "#2a3f5f",
             "gridcolor": "white",
             "linecolor": "white",
             "minorgridcolor": "white",
             "startlinecolor": "#2a3f5f"
            },
            "type": "carpet"
           }
          ],
          "choropleth": [
           {
            "colorbar": {
             "outlinewidth": 0,
             "ticks": ""
            },
            "type": "choropleth"
           }
          ],
          "contour": [
           {
            "colorbar": {
             "outlinewidth": 0,
             "ticks": ""
            },
            "colorscale": [
             [
              0,
              "#0d0887"
             ],
             [
              0.1111111111111111,
              "#46039f"
             ],
             [
              0.2222222222222222,
              "#7201a8"
             ],
             [
              0.3333333333333333,
              "#9c179e"
             ],
             [
              0.4444444444444444,
              "#bd3786"
             ],
             [
              0.5555555555555556,
              "#d8576b"
             ],
             [
              0.6666666666666666,
              "#ed7953"
             ],
             [
              0.7777777777777778,
              "#fb9f3a"
             ],
             [
              0.8888888888888888,
              "#fdca26"
             ],
             [
              1,
              "#f0f921"
             ]
            ],
            "type": "contour"
           }
          ],
          "contourcarpet": [
           {
            "colorbar": {
             "outlinewidth": 0,
             "ticks": ""
            },
            "type": "contourcarpet"
           }
          ],
          "heatmap": [
           {
            "colorbar": {
             "outlinewidth": 0,
             "ticks": ""
            },
            "colorscale": [
             [
              0,
              "#0d0887"
             ],
             [
              0.1111111111111111,
              "#46039f"
             ],
             [
              0.2222222222222222,
              "#7201a8"
             ],
             [
              0.3333333333333333,
              "#9c179e"
             ],
             [
              0.4444444444444444,
              "#bd3786"
             ],
             [
              0.5555555555555556,
              "#d8576b"
             ],
             [
              0.6666666666666666,
              "#ed7953"
             ],
             [
              0.7777777777777778,
              "#fb9f3a"
             ],
             [
              0.8888888888888888,
              "#fdca26"
             ],
             [
              1,
              "#f0f921"
             ]
            ],
            "type": "heatmap"
           }
          ],
          "heatmapgl": [
           {
            "colorbar": {
             "outlinewidth": 0,
             "ticks": ""
            },
            "colorscale": [
             [
              0,
              "#0d0887"
             ],
             [
              0.1111111111111111,
              "#46039f"
             ],
             [
              0.2222222222222222,
              "#7201a8"
             ],
             [
              0.3333333333333333,
              "#9c179e"
             ],
             [
              0.4444444444444444,
              "#bd3786"
             ],
             [
              0.5555555555555556,
              "#d8576b"
             ],
             [
              0.6666666666666666,
              "#ed7953"
             ],
             [
              0.7777777777777778,
              "#fb9f3a"
             ],
             [
              0.8888888888888888,
              "#fdca26"
             ],
             [
              1,
              "#f0f921"
             ]
            ],
            "type": "heatmapgl"
           }
          ],
          "histogram": [
           {
            "marker": {
             "pattern": {
              "fillmode": "overlay",
              "size": 10,
              "solidity": 0.2
             }
            },
            "type": "histogram"
           }
          ],
          "histogram2d": [
           {
            "colorbar": {
             "outlinewidth": 0,
             "ticks": ""
            },
            "colorscale": [
             [
              0,
              "#0d0887"
             ],
             [
              0.1111111111111111,
              "#46039f"
             ],
             [
              0.2222222222222222,
              "#7201a8"
             ],
             [
              0.3333333333333333,
              "#9c179e"
             ],
             [
              0.4444444444444444,
              "#bd3786"
             ],
             [
              0.5555555555555556,
              "#d8576b"
             ],
             [
              0.6666666666666666,
              "#ed7953"
             ],
             [
              0.7777777777777778,
              "#fb9f3a"
             ],
             [
              0.8888888888888888,
              "#fdca26"
             ],
             [
              1,
              "#f0f921"
             ]
            ],
            "type": "histogram2d"
           }
          ],
          "histogram2dcontour": [
           {
            "colorbar": {
             "outlinewidth": 0,
             "ticks": ""
            },
            "colorscale": [
             [
              0,
              "#0d0887"
             ],
             [
              0.1111111111111111,
              "#46039f"
             ],
             [
              0.2222222222222222,
              "#7201a8"
             ],
             [
              0.3333333333333333,
              "#9c179e"
             ],
             [
              0.4444444444444444,
              "#bd3786"
             ],
             [
              0.5555555555555556,
              "#d8576b"
             ],
             [
              0.6666666666666666,
              "#ed7953"
             ],
             [
              0.7777777777777778,
              "#fb9f3a"
             ],
             [
              0.8888888888888888,
              "#fdca26"
             ],
             [
              1,
              "#f0f921"
             ]
            ],
            "type": "histogram2dcontour"
           }
          ],
          "mesh3d": [
           {
            "colorbar": {
             "outlinewidth": 0,
             "ticks": ""
            },
            "type": "mesh3d"
           }
          ],
          "parcoords": [
           {
            "line": {
             "colorbar": {
              "outlinewidth": 0,
              "ticks": ""
             }
            },
            "type": "parcoords"
           }
          ],
          "pie": [
           {
            "automargin": true,
            "type": "pie"
           }
          ],
          "scatter": [
           {
            "marker": {
             "colorbar": {
              "outlinewidth": 0,
              "ticks": ""
             }
            },
            "type": "scatter"
           }
          ],
          "scatter3d": [
           {
            "line": {
             "colorbar": {
              "outlinewidth": 0,
              "ticks": ""
             }
            },
            "marker": {
             "colorbar": {
              "outlinewidth": 0,
              "ticks": ""
             }
            },
            "type": "scatter3d"
           }
          ],
          "scattercarpet": [
           {
            "marker": {
             "colorbar": {
              "outlinewidth": 0,
              "ticks": ""
             }
            },
            "type": "scattercarpet"
           }
          ],
          "scattergeo": [
           {
            "marker": {
             "colorbar": {
              "outlinewidth": 0,
              "ticks": ""
             }
            },
            "type": "scattergeo"
           }
          ],
          "scattergl": [
           {
            "marker": {
             "colorbar": {
              "outlinewidth": 0,
              "ticks": ""
             }
            },
            "type": "scattergl"
           }
          ],
          "scattermapbox": [
           {
            "marker": {
             "colorbar": {
              "outlinewidth": 0,
              "ticks": ""
             }
            },
            "type": "scattermapbox"
           }
          ],
          "scatterpolar": [
           {
            "marker": {
             "colorbar": {
              "outlinewidth": 0,
              "ticks": ""
             }
            },
            "type": "scatterpolar"
           }
          ],
          "scatterpolargl": [
           {
            "marker": {
             "colorbar": {
              "outlinewidth": 0,
              "ticks": ""
             }
            },
            "type": "scatterpolargl"
           }
          ],
          "scatterternary": [
           {
            "marker": {
             "colorbar": {
              "outlinewidth": 0,
              "ticks": ""
             }
            },
            "type": "scatterternary"
           }
          ],
          "surface": [
           {
            "colorbar": {
             "outlinewidth": 0,
             "ticks": ""
            },
            "colorscale": [
             [
              0,
              "#0d0887"
             ],
             [
              0.1111111111111111,
              "#46039f"
             ],
             [
              0.2222222222222222,
              "#7201a8"
             ],
             [
              0.3333333333333333,
              "#9c179e"
             ],
             [
              0.4444444444444444,
              "#bd3786"
             ],
             [
              0.5555555555555556,
              "#d8576b"
             ],
             [
              0.6666666666666666,
              "#ed7953"
             ],
             [
              0.7777777777777778,
              "#fb9f3a"
             ],
             [
              0.8888888888888888,
              "#fdca26"
             ],
             [
              1,
              "#f0f921"
             ]
            ],
            "type": "surface"
           }
          ],
          "table": [
           {
            "cells": {
             "fill": {
              "color": "#EBF0F8"
             },
             "line": {
              "color": "white"
             }
            },
            "header": {
             "fill": {
              "color": "#C8D4E3"
             },
             "line": {
              "color": "white"
             }
            },
            "type": "table"
           }
          ]
         },
         "layout": {
          "annotationdefaults": {
           "arrowcolor": "#2a3f5f",
           "arrowhead": 0,
           "arrowwidth": 1
          },
          "autotypenumbers": "strict",
          "coloraxis": {
           "colorbar": {
            "outlinewidth": 0,
            "ticks": ""
           }
          },
          "colorscale": {
           "diverging": [
            [
             0,
             "#8e0152"
            ],
            [
             0.1,
             "#c51b7d"
            ],
            [
             0.2,
             "#de77ae"
            ],
            [
             0.3,
             "#f1b6da"
            ],
            [
             0.4,
             "#fde0ef"
            ],
            [
             0.5,
             "#f7f7f7"
            ],
            [
             0.6,
             "#e6f5d0"
            ],
            [
             0.7,
             "#b8e186"
            ],
            [
             0.8,
             "#7fbc41"
            ],
            [
             0.9,
             "#4d9221"
            ],
            [
             1,
             "#276419"
            ]
           ],
           "sequential": [
            [
             0,
             "#0d0887"
            ],
            [
             0.1111111111111111,
             "#46039f"
            ],
            [
             0.2222222222222222,
             "#7201a8"
            ],
            [
             0.3333333333333333,
             "#9c179e"
            ],
            [
             0.4444444444444444,
             "#bd3786"
            ],
            [
             0.5555555555555556,
             "#d8576b"
            ],
            [
             0.6666666666666666,
             "#ed7953"
            ],
            [
             0.7777777777777778,
             "#fb9f3a"
            ],
            [
             0.8888888888888888,
             "#fdca26"
            ],
            [
             1,
             "#f0f921"
            ]
           ],
           "sequentialminus": [
            [
             0,
             "#0d0887"
            ],
            [
             0.1111111111111111,
             "#46039f"
            ],
            [
             0.2222222222222222,
             "#7201a8"
            ],
            [
             0.3333333333333333,
             "#9c179e"
            ],
            [
             0.4444444444444444,
             "#bd3786"
            ],
            [
             0.5555555555555556,
             "#d8576b"
            ],
            [
             0.6666666666666666,
             "#ed7953"
            ],
            [
             0.7777777777777778,
             "#fb9f3a"
            ],
            [
             0.8888888888888888,
             "#fdca26"
            ],
            [
             1,
             "#f0f921"
            ]
           ]
          },
          "colorway": [
           "#636efa",
           "#EF553B",
           "#00cc96",
           "#ab63fa",
           "#FFA15A",
           "#19d3f3",
           "#FF6692",
           "#B6E880",
           "#FF97FF",
           "#FECB52"
          ],
          "font": {
           "color": "#2a3f5f"
          },
          "geo": {
           "bgcolor": "white",
           "lakecolor": "white",
           "landcolor": "#E5ECF6",
           "showlakes": true,
           "showland": true,
           "subunitcolor": "white"
          },
          "hoverlabel": {
           "align": "left"
          },
          "hovermode": "closest",
          "mapbox": {
           "style": "light"
          },
          "paper_bgcolor": "white",
          "plot_bgcolor": "#E5ECF6",
          "polar": {
           "angularaxis": {
            "gridcolor": "white",
            "linecolor": "white",
            "ticks": ""
           },
           "bgcolor": "#E5ECF6",
           "radialaxis": {
            "gridcolor": "white",
            "linecolor": "white",
            "ticks": ""
           }
          },
          "scene": {
           "xaxis": {
            "backgroundcolor": "#E5ECF6",
            "gridcolor": "white",
            "gridwidth": 2,
            "linecolor": "white",
            "showbackground": true,
            "ticks": "",
            "zerolinecolor": "white"
           },
           "yaxis": {
            "backgroundcolor": "#E5ECF6",
            "gridcolor": "white",
            "gridwidth": 2,
            "linecolor": "white",
            "showbackground": true,
            "ticks": "",
            "zerolinecolor": "white"
           },
           "zaxis": {
            "backgroundcolor": "#E5ECF6",
            "gridcolor": "white",
            "gridwidth": 2,
            "linecolor": "white",
            "showbackground": true,
            "ticks": "",
            "zerolinecolor": "white"
           }
          },
          "shapedefaults": {
           "line": {
            "color": "#2a3f5f"
           }
          },
          "ternary": {
           "aaxis": {
            "gridcolor": "white",
            "linecolor": "white",
            "ticks": ""
           },
           "baxis": {
            "gridcolor": "white",
            "linecolor": "white",
            "ticks": ""
           },
           "bgcolor": "#E5ECF6",
           "caxis": {
            "gridcolor": "white",
            "linecolor": "white",
            "ticks": ""
           }
          },
          "title": {
           "x": 0.05
          },
          "xaxis": {
           "automargin": true,
           "gridcolor": "white",
           "linecolor": "white",
           "ticks": "",
           "title": {
            "standoff": 15
           },
           "zerolinecolor": "white",
           "zerolinewidth": 2
          },
          "yaxis": {
           "automargin": true,
           "gridcolor": "white",
           "linecolor": "white",
           "ticks": "",
           "title": {
            "standoff": 15
           },
           "zerolinecolor": "white",
           "zerolinewidth": 2
          }
         }
        },
        "title": {
         "text": "Weight of portfolio with highest sharpe ratio"
        }
       }
      }
     },
     "metadata": {},
     "output_type": "display_data"
    }
   ],
   "source": [
    "fig=px.pie(data_frame=optimal_weight_df,names='ticker',values='weight')\n",
    "fig.update_layout(\n",
    "    title='Weight of portfolio with highest sharpe ratio',\n",
    "    font=dict(size=18 ))"
   ]
  },
  {
   "cell_type": "code",
   "execution_count": 607,
   "metadata": {},
   "outputs": [
    {
     "data": {},
     "metadata": {},
     "output_type": "display_data"
    },
    {
     "data": {
      "application/vnd.holoviews_exec.v0+json": "",
      "text/html": [
       "<div id='159818'>\n",
       "\n",
       "\n",
       "\n",
       "\n",
       "\n",
       "  <div class=\"bk-root\" id=\"7c812007-1317-496f-9659-5e83cb263c13\" data-root-id=\"159818\"></div>\n",
       "</div>\n",
       "<script type=\"application/javascript\">(function(root) {\n",
       "  function embed_document(root) {\n",
       "    var docs_json = {\"1697d489-9590-4991-aff8-04a44ceb4168\":{\"defs\":[{\"extends\":null,\"module\":null,\"name\":\"ReactiveHTML1\",\"overrides\":[],\"properties\":[]},{\"extends\":null,\"module\":null,\"name\":\"FlexBox1\",\"overrides\":[],\"properties\":[{\"default\":\"flex-start\",\"kind\":null,\"name\":\"align_content\"},{\"default\":\"flex-start\",\"kind\":null,\"name\":\"align_items\"},{\"default\":\"row\",\"kind\":null,\"name\":\"flex_direction\"},{\"default\":\"wrap\",\"kind\":null,\"name\":\"flex_wrap\"},{\"default\":\"flex-start\",\"kind\":null,\"name\":\"justify_content\"}]},{\"extends\":null,\"module\":null,\"name\":\"TemplateActions1\",\"overrides\":[],\"properties\":[{\"default\":0,\"kind\":null,\"name\":\"open_modal\"},{\"default\":0,\"kind\":null,\"name\":\"close_modal\"}]},{\"extends\":null,\"module\":null,\"name\":\"MaterialTemplateActions1\",\"overrides\":[],\"properties\":[{\"default\":0,\"kind\":null,\"name\":\"open_modal\"},{\"default\":0,\"kind\":null,\"name\":\"close_modal\"}]}],\"roots\":{\"references\":[{\"attributes\":{\"data_source\":{\"id\":\"159861\"},\"glyph\":{\"id\":\"159864\"},\"hover_glyph\":null,\"muted_glyph\":{\"id\":\"159866\"},\"nonselection_glyph\":{\"id\":\"159865\"},\"selection_glyph\":{\"id\":\"159869\"},\"view\":{\"id\":\"159868\"}},\"id\":\"159867\",\"type\":\"GlyphRenderer\"},{\"attributes\":{},\"id\":\"159895\",\"type\":\"UnionRenderers\"},{\"attributes\":{},\"id\":\"159862\",\"type\":\"Selection\"},{\"attributes\":{},\"id\":\"159880\",\"type\":\"Selection\"},{\"attributes\":{\"below\":[{\"id\":\"159834\"}],\"center\":[{\"id\":\"159837\"},{\"id\":\"159841\"}],\"height\":500,\"left\":[{\"id\":\"159838\"}],\"margin\":[5,5,5,5],\"min_border_bottom\":10,\"min_border_left\":10,\"min_border_right\":10,\"min_border_top\":10,\"renderers\":[{\"id\":\"159867\"},{\"id\":\"159876\"},{\"id\":\"159885\"}],\"sizing_mode\":\"fixed\",\"title\":{\"id\":\"159826\"},\"toolbar\":{\"id\":\"159848\"},\"width\":1000,\"x_range\":{\"id\":\"159820\"},\"x_scale\":{\"id\":\"159830\"},\"y_range\":{\"id\":\"159821\"},\"y_scale\":{\"id\":\"159832\"}},\"id\":\"159825\",\"subtype\":\"Figure\",\"type\":\"Plot\"},{\"attributes\":{\"data\":{\"Volatility\":{\"__ndarray__\":\"WzEWmGuMTUA=\",\"dtype\":\"float64\",\"order\":\"little\",\"shape\":[1]},\"returns\":{\"__ndarray__\":\"Dui9PWfdIUA=\",\"dtype\":\"float64\",\"order\":\"little\",\"shape\":[1]}},\"selected\":{\"id\":\"159871\"},\"selection_policy\":{\"id\":\"159897\"}},\"id\":\"159870\",\"type\":\"ColumnDataSource\"},{\"attributes\":{\"fill_color\":{\"value\":\"#e5ae38\"},\"line_color\":{\"value\":\"#e5ae38\"},\"size\":{\"value\":5.477225575051661},\"x\":{\"field\":\"Volatility\"},\"y\":{\"field\":\"returns\"}},\"id\":\"159882\",\"type\":\"Scatter\"},{\"attributes\":{\"fill_alpha\":{\"value\":0.9},\"fill_color\":{\"value\":\"#fc4f30\"},\"line_alpha\":{\"value\":0.9},\"line_color\":{\"value\":\"#fc4f30\"},\"size\":{\"value\":5.477225575051661},\"x\":{\"field\":\"Volatility\"},\"y\":{\"field\":\"returns\"}},\"id\":\"159874\",\"type\":\"Scatter\"},{\"attributes\":{\"data\":{\"Volatility\":{\"__ndarray__\":\"beM7K6xdOEA=\",\"dtype\":\"float64\",\"order\":\"little\",\"shape\":[1]},\"returns\":{\"__ndarray__\":\"SUvHih/5CkA=\",\"dtype\":\"float64\",\"order\":\"little\",\"shape\":[1]}},\"selected\":{\"id\":\"159880\"},\"selection_policy\":{\"id\":\"159899\"}},\"id\":\"159879\",\"type\":\"ColumnDataSource\"},{\"attributes\":{},\"id\":\"159846\",\"type\":\"ResetTool\"},{\"attributes\":{\"fill_alpha\":{\"value\":0.1},\"fill_color\":{\"value\":\"#e5ae38\"},\"line_alpha\":{\"value\":0.1},\"line_color\":{\"value\":\"#e5ae38\"},\"size\":{\"value\":5.477225575051661},\"x\":{\"field\":\"Volatility\"},\"y\":{\"field\":\"returns\"}},\"id\":\"159883\",\"type\":\"Scatter\"},{\"attributes\":{\"bottom_units\":\"screen\",\"fill_alpha\":0.5,\"fill_color\":\"lightgrey\",\"left_units\":\"screen\",\"level\":\"overlay\",\"line_alpha\":1.0,\"line_color\":\"black\",\"line_dash\":[4,4],\"line_width\":2,\"right_units\":\"screen\",\"syncable\":false,\"top_units\":\"screen\"},\"id\":\"159847\",\"type\":\"BoxAnnotation\"},{\"attributes\":{\"end\":42.5684969349475,\"reset_end\":42.5684969349475,\"reset_start\":-0.1917082380447246,\"start\":-0.1917082380447246,\"tags\":[[[\"returns\",\"returns\",null]]]},\"id\":\"159821\",\"type\":\"Range1d\"},{\"attributes\":{},\"id\":\"159830\",\"type\":\"LinearScale\"},{\"attributes\":{\"axis\":{\"id\":\"159834\"},\"grid_line_color\":null,\"ticker\":null},\"id\":\"159837\",\"type\":\"Grid\"},{\"attributes\":{\"fill_alpha\":{\"value\":0.1},\"fill_color\":{\"value\":\"#30a2da\"},\"line_alpha\":{\"value\":0.1},\"line_color\":{\"value\":\"#30a2da\"},\"size\":{\"value\":5.477225575051661},\"x\":{\"field\":\"Volatility\"},\"y\":{\"field\":\"returns\"}},\"id\":\"159865\",\"type\":\"Scatter\"},{\"attributes\":{},\"id\":\"159842\",\"type\":\"SaveTool\"},{\"attributes\":{\"margin\":[5,5,5,5],\"name\":\"HSpacer46675\",\"sizing_mode\":\"stretch_width\"},\"id\":\"160014\",\"type\":\"Spacer\"},{\"attributes\":{},\"id\":\"159832\",\"type\":\"LinearScale\"},{\"attributes\":{},\"id\":\"159857\",\"type\":\"AllLabels\"},{\"attributes\":{\"data_source\":{\"id\":\"159870\"},\"glyph\":{\"id\":\"159873\"},\"hover_glyph\":null,\"muted_glyph\":{\"id\":\"159875\"},\"nonselection_glyph\":{\"id\":\"159874\"},\"selection_glyph\":{\"id\":\"159878\"},\"view\":{\"id\":\"159877\"}},\"id\":\"159876\",\"type\":\"GlyphRenderer\"},{\"attributes\":{\"angle\":{\"value\":0.0},\"fill_alpha\":{\"value\":0.9},\"fill_color\":{\"value\":\"#fc4f30\"},\"hatch_alpha\":{\"value\":1.0},\"hatch_color\":{\"value\":\"black\"},\"hatch_scale\":{\"value\":12.0},\"hatch_weight\":{\"value\":1.0},\"line_alpha\":{\"value\":0.9},\"line_cap\":{\"value\":\"butt\"},\"line_color\":{\"value\":\"#fc4f30\"},\"line_dash\":{\"value\":[]},\"line_dash_offset\":{\"value\":0},\"line_join\":{\"value\":\"bevel\"},\"line_width\":{\"value\":1},\"marker\":{\"value\":\"circle\"},\"size\":{\"value\":5.477225575051661},\"x\":{\"field\":\"Volatility\"},\"y\":{\"field\":\"returns\"}},\"id\":\"159878\",\"type\":\"Scatter\"},{\"attributes\":{},\"id\":\"159835\",\"type\":\"BasicTicker\"},{\"attributes\":{},\"id\":\"159839\",\"type\":\"BasicTicker\"},{\"attributes\":{\"callback\":null,\"renderers\":[{\"id\":\"159867\"},{\"id\":\"159876\"},{\"id\":\"159885\"}],\"tags\":[\"hv_created\"],\"tooltips\":[[\"Volatility\",\"@{Volatility}\"],[\"returns\",\"@{returns}\"]]},\"id\":\"159822\",\"type\":\"HoverTool\"},{\"attributes\":{\"active_multi\":null,\"tools\":[{\"id\":\"159822\"},{\"id\":\"159842\"},{\"id\":\"159843\"},{\"id\":\"159844\"},{\"id\":\"159845\"},{\"id\":\"159846\"}]},\"id\":\"159848\",\"type\":\"Toolbar\"},{\"attributes\":{},\"id\":\"159860\",\"type\":\"AllLabels\"},{\"attributes\":{},\"id\":\"159855\",\"type\":\"BasicTickFormatter\"},{\"attributes\":{\"text_color\":\"black\",\"text_font_size\":\"12pt\"},\"id\":\"159826\",\"type\":\"Title\"},{\"attributes\":{\"end\":307.228327424293,\"reset_end\":307.228327424293,\"reset_start\":10.896269334584673,\"start\":10.896269334584673,\"tags\":[[[\"Volatility\",\"Volatility\",null]]]},\"id\":\"159820\",\"type\":\"Range1d\"},{\"attributes\":{\"source\":{\"id\":\"159861\"}},\"id\":\"159868\",\"type\":\"CDSView\"},{\"attributes\":{\"angle\":{\"value\":0.0},\"fill_alpha\":{\"value\":1.0},\"fill_color\":{\"value\":\"#e5ae38\"},\"hatch_alpha\":{\"value\":1.0},\"hatch_color\":{\"value\":\"black\"},\"hatch_scale\":{\"value\":12.0},\"hatch_weight\":{\"value\":1.0},\"line_alpha\":{\"value\":1.0},\"line_cap\":{\"value\":\"butt\"},\"line_color\":{\"value\":\"#e5ae38\"},\"line_dash\":{\"value\":[]},\"line_dash_offset\":{\"value\":0},\"line_join\":{\"value\":\"bevel\"},\"line_width\":{\"value\":1},\"marker\":{\"value\":\"circle\"},\"size\":{\"value\":5.477225575051661},\"x\":{\"field\":\"Volatility\"},\"y\":{\"field\":\"returns\"}},\"id\":\"159887\",\"type\":\"Scatter\"},{\"attributes\":{\"axis_label\":\"Expected return\",\"formatter\":{\"id\":\"159858\"},\"major_label_policy\":{\"id\":\"159860\"},\"ticker\":{\"id\":\"159839\"}},\"id\":\"159838\",\"type\":\"LinearAxis\"},{\"attributes\":{\"source\":{\"id\":\"159879\"}},\"id\":\"159886\",\"type\":\"CDSView\"},{\"attributes\":{\"axis_label\":\"Volatility\",\"formatter\":{\"id\":\"159855\"},\"major_label_policy\":{\"id\":\"159857\"},\"ticker\":{\"id\":\"159835\"}},\"id\":\"159834\",\"type\":\"LinearAxis\"},{\"attributes\":{\"axis\":{\"id\":\"159838\"},\"dimension\":1,\"grid_line_color\":null,\"ticker\":null},\"id\":\"159841\",\"type\":\"Grid\"},{\"attributes\":{\"source\":{\"id\":\"159870\"}},\"id\":\"159877\",\"type\":\"CDSView\"},{\"attributes\":{\"children\":[{\"id\":\"159819\"},{\"id\":\"159825\"},{\"id\":\"160014\"}],\"margin\":[0,0,0,0],\"name\":\"Row46670\",\"tags\":[\"embedded\"]},\"id\":\"159818\",\"type\":\"Row\"},{\"attributes\":{\"fill_color\":{\"value\":\"#30a2da\"},\"line_color\":{\"value\":\"#30a2da\"},\"size\":{\"value\":5.477225575051661},\"x\":{\"field\":\"Volatility\"},\"y\":{\"field\":\"returns\"}},\"id\":\"159864\",\"type\":\"Scatter\"},{\"attributes\":{},\"id\":\"159843\",\"type\":\"PanTool\"},{\"attributes\":{},\"id\":\"159844\",\"type\":\"WheelZoomTool\"},{\"attributes\":{},\"id\":\"159897\",\"type\":\"UnionRenderers\"},{\"attributes\":{},\"id\":\"159871\",\"type\":\"Selection\"},{\"attributes\":{\"data\":{\"Volatility\":{\"__ndarray__\":\"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\",\"dtype\":\"float64\",\"order\":\"little\",\"shape\":[10000]},\"returns\":{\"__ndarray__\":\"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\",\"dtype\":\"float64\",\"order\":\"little\",\"shape\":[10000]}},\"selected\":{\"id\":\"159862\"},\"selection_policy\":{\"id\":\"159895\"}},\"id\":\"159861\",\"type\":\"ColumnDataSource\"},{\"attributes\":{},\"id\":\"159858\",\"type\":\"BasicTickFormatter\"},{\"attributes\":{\"fill_alpha\":{\"value\":0.2},\"fill_color\":{\"value\":\"#e5ae38\"},\"line_alpha\":{\"value\":0.2},\"line_color\":{\"value\":\"#e5ae38\"},\"size\":{\"value\":5.477225575051661},\"x\":{\"field\":\"Volatility\"},\"y\":{\"field\":\"returns\"}},\"id\":\"159884\",\"type\":\"Scatter\"},{\"attributes\":{\"margin\":[5,5,5,5],\"name\":\"HSpacer46674\",\"sizing_mode\":\"stretch_width\"},\"id\":\"159819\",\"type\":\"Spacer\"},{\"attributes\":{\"angle\":{\"value\":0.0},\"fill_alpha\":{\"value\":1.0},\"fill_color\":{\"value\":\"#30a2da\"},\"hatch_alpha\":{\"value\":1.0},\"hatch_color\":{\"value\":\"black\"},\"hatch_scale\":{\"value\":12.0},\"hatch_weight\":{\"value\":1.0},\"line_alpha\":{\"value\":1.0},\"line_cap\":{\"value\":\"butt\"},\"line_color\":{\"value\":\"#30a2da\"},\"line_dash\":{\"value\":[]},\"line_dash_offset\":{\"value\":0},\"line_join\":{\"value\":\"bevel\"},\"line_width\":{\"value\":1},\"marker\":{\"value\":\"circle\"},\"size\":{\"value\":5.477225575051661},\"x\":{\"field\":\"Volatility\"},\"y\":{\"field\":\"returns\"}},\"id\":\"159869\",\"type\":\"Scatter\"},{\"attributes\":{\"fill_alpha\":{\"value\":0.2},\"fill_color\":{\"value\":\"#30a2da\"},\"line_alpha\":{\"value\":0.2},\"line_color\":{\"value\":\"#30a2da\"},\"size\":{\"value\":5.477225575051661},\"x\":{\"field\":\"Volatility\"},\"y\":{\"field\":\"returns\"}},\"id\":\"159866\",\"type\":\"Scatter\"},{\"attributes\":{\"fill_alpha\":{\"value\":0.9},\"fill_color\":{\"value\":\"#fc4f30\"},\"line_alpha\":{\"value\":0.9},\"line_color\":{\"value\":\"#fc4f30\"},\"size\":{\"value\":5.477225575051661},\"x\":{\"field\":\"Volatility\"},\"y\":{\"field\":\"returns\"}},\"id\":\"159873\",\"type\":\"Scatter\"},{\"attributes\":{\"overlay\":{\"id\":\"159847\"}},\"id\":\"159845\",\"type\":\"BoxZoomTool\"},{\"attributes\":{\"fill_alpha\":{\"value\":0.2},\"fill_color\":{\"value\":\"#fc4f30\"},\"line_alpha\":{\"value\":0.2},\"line_color\":{\"value\":\"#fc4f30\"},\"size\":{\"value\":5.477225575051661},\"x\":{\"field\":\"Volatility\"},\"y\":{\"field\":\"returns\"}},\"id\":\"159875\",\"type\":\"Scatter\"},{\"attributes\":{},\"id\":\"159899\",\"type\":\"UnionRenderers\"},{\"attributes\":{\"data_source\":{\"id\":\"159879\"},\"glyph\":{\"id\":\"159882\"},\"hover_glyph\":null,\"muted_glyph\":{\"id\":\"159884\"},\"nonselection_glyph\":{\"id\":\"159883\"},\"selection_glyph\":{\"id\":\"159887\"},\"view\":{\"id\":\"159886\"}},\"id\":\"159885\",\"type\":\"GlyphRenderer\"}],\"root_ids\":[\"159818\"]},\"title\":\"Bokeh Application\",\"version\":\"2.3.2\"}};\n",
       "    var render_items = [{\"docid\":\"1697d489-9590-4991-aff8-04a44ceb4168\",\"root_ids\":[\"159818\"],\"roots\":{\"159818\":\"7c812007-1317-496f-9659-5e83cb263c13\"}}];\n",
       "    root.Bokeh.embed.embed_items_notebook(docs_json, render_items);\n",
       "  }\n",
       "  if (root.Bokeh !== undefined && root.Bokeh.Panel !== undefined && ( root['Plotly'] !== undefined)) {\n",
       "    embed_document(root);\n",
       "  } else {\n",
       "    var attempts = 0;\n",
       "    var timer = setInterval(function(root) {\n",
       "      if (root.Bokeh !== undefined && root.Bokeh.Panel !== undefined && (root['Plotly'] !== undefined)) {\n",
       "        clearInterval(timer);\n",
       "        embed_document(root);\n",
       "      } else if (document.readyState == \"complete\") {\n",
       "        attempts++;\n",
       "        if (attempts > 200) {\n",
       "          clearInterval(timer);\n",
       "          console.log(\"Bokeh: ERROR: Unable to run BokehJS code because BokehJS library is missing\");\n",
       "        }\n",
       "      }\n",
       "    }, 25, root)\n",
       "  }\n",
       "})(window);</script>"
      ],
      "text/plain": [
       ":Overlay\n",
       "   .Scatter.I   :Scatter   [Volatility]   (returns)\n",
       "   .Scatter.II  :Scatter   [Volatility]   (returns)\n",
       "   .Scatter.III :Scatter   [Volatility]   (returns)"
      ]
     },
     "execution_count": 607,
     "metadata": {
      "application/vnd.holoviews_exec.v0+json": {
       "id": "159818"
      }
     },
     "output_type": "execute_result"
    }
   ],
   "source": [
    "p1=portfolio.hvplot.scatter(x='Volatility',y='returns',xlabel='Volatility',ylabel='Expected return',legend='top',height=500,width=1000)\n",
    "p2=optimal_sharpe_portfolio.hvplot.scatter(x='Volatility',y='returns',marker='o', alpha=.9,)\n",
    "p3=min_vol_port.hvplot.scatter(x='Volatility',y='returns')\n",
    "#p4=min_vol_port.hvplot.labels(x='Volatility',y='returns',text='minimum variance')\n",
    "p1*p2*p3\n"
   ]
  }
 ],
 "metadata": {
  "interpreter": {
   "hash": "c0d6d2130ba9a00adea2dfc270a0d0a49807c33e1a09fb885965f472da962a7f"
  },
  "kernelspec": {
   "display_name": "Python 3.7.10 64-bit ('pyvizenv': conda)",
   "name": "python3"
  },
  "language_info": {
   "codemirror_mode": {
    "name": "ipython",
    "version": 3
   },
   "file_extension": ".py",
   "mimetype": "text/x-python",
   "name": "python",
   "nbconvert_exporter": "python",
   "pygments_lexer": "ipython3",
   "version": "3.7.10"
  }
 },
 "nbformat": 4,
 "nbformat_minor": 5
}
